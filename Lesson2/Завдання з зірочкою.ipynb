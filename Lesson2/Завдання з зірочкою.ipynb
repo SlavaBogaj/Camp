{
 "cells": [
  {
   "cell_type": "markdown",
   "id": "H9FCJXGxPVw4",
   "metadata": {
    "id": "H9FCJXGxPVw4"
   },
   "source": [
    "Завдання з зірочкою"
   ]
  },
  {
   "cell_type": "code",
   "execution_count": 1,
   "id": "ec4d4b78-9945-4cb3-8ef6-4407c01fff9a",
   "metadata": {
    "executionInfo": {
     "elapsed": 783,
     "status": "ok",
     "timestamp": 1697103865358,
     "user": {
      "displayName": "Святослав Богай",
      "userId": "12018382299036809658"
     },
     "user_tz": -180
    },
    "id": "ec4d4b78-9945-4cb3-8ef6-4407c01fff9a",
    "tags": []
   },
   "outputs": [],
   "source": [
    "# Стандартно імпортєм бібліотеки\n",
    "import pandas as pd\n",
    "import numpy as np"
   ]
  },
  {
   "cell_type": "code",
   "execution_count": 2,
   "id": "702c94a9-4bfe-4d52-98bb-7b8b2b78ab8b",
   "metadata": {
    "executionInfo": {
     "elapsed": 6,
     "status": "ok",
     "timestamp": 1697103866823,
     "user": {
      "displayName": "Святослав Богай",
      "userId": "12018382299036809658"
     },
     "user_tz": -180
    },
    "id": "702c94a9-4bfe-4d52-98bb-7b8b2b78ab8b",
    "tags": []
   },
   "outputs": [],
   "source": [
    "# Створюємо данні з numpy через генератори, можна по різному\n",
    "x = np.array([x for x in range(2, 100)])\n",
    "y = np.array([y for y in range(2, 100)])"
   ]
  },
  {
   "cell_type": "code",
   "execution_count": 3,
   "id": "4R7Ku5WdcsM0",
   "metadata": {
    "colab": {
     "base_uri": "https://localhost:8080/",
     "height": 687
    },
    "executionInfo": {
     "elapsed": 346,
     "status": "ok",
     "timestamp": 1697103868621,
     "user": {
      "displayName": "Святослав Богай",
      "userId": "12018382299036809658"
     },
     "user_tz": -180
    },
    "id": "4R7Ku5WdcsM0",
    "outputId": "aeb74181-fd66-449a-b344-841e76566bd2",
    "tags": []
   },
   "outputs": [
    {
     "data": {
      "text/html": [
       "<div>\n",
       "<style scoped>\n",
       "    .dataframe tbody tr th:only-of-type {\n",
       "        vertical-align: middle;\n",
       "    }\n",
       "\n",
       "    .dataframe tbody tr th {\n",
       "        vertical-align: top;\n",
       "    }\n",
       "\n",
       "    .dataframe thead th {\n",
       "        text-align: right;\n",
       "    }\n",
       "</style>\n",
       "<table border=\"1\" class=\"dataframe\">\n",
       "  <thead>\n",
       "    <tr style=\"text-align: right;\">\n",
       "      <th></th>\n",
       "      <th>a</th>\n",
       "      <th>b</th>\n",
       "      <th>dot</th>\n",
       "      <th>sum</th>\n",
       "    </tr>\n",
       "  </thead>\n",
       "  <tbody>\n",
       "    <tr>\n",
       "      <th>0</th>\n",
       "      <td>2</td>\n",
       "      <td>3</td>\n",
       "      <td>6</td>\n",
       "      <td>5</td>\n",
       "    </tr>\n",
       "    <tr>\n",
       "      <th>1</th>\n",
       "      <td>2</td>\n",
       "      <td>4</td>\n",
       "      <td>8</td>\n",
       "      <td>6</td>\n",
       "    </tr>\n",
       "    <tr>\n",
       "      <th>2</th>\n",
       "      <td>2</td>\n",
       "      <td>5</td>\n",
       "      <td>10</td>\n",
       "      <td>7</td>\n",
       "    </tr>\n",
       "    <tr>\n",
       "      <th>3</th>\n",
       "      <td>2</td>\n",
       "      <td>6</td>\n",
       "      <td>12</td>\n",
       "      <td>8</td>\n",
       "    </tr>\n",
       "    <tr>\n",
       "      <th>4</th>\n",
       "      <td>2</td>\n",
       "      <td>7</td>\n",
       "      <td>14</td>\n",
       "      <td>9</td>\n",
       "    </tr>\n",
       "    <tr>\n",
       "      <th>...</th>\n",
       "      <td>...</td>\n",
       "      <td>...</td>\n",
       "      <td>...</td>\n",
       "      <td>...</td>\n",
       "    </tr>\n",
       "    <tr>\n",
       "      <th>4846</th>\n",
       "      <td>95</td>\n",
       "      <td>95</td>\n",
       "      <td>9025</td>\n",
       "      <td>190</td>\n",
       "    </tr>\n",
       "    <tr>\n",
       "      <th>4847</th>\n",
       "      <td>96</td>\n",
       "      <td>96</td>\n",
       "      <td>9216</td>\n",
       "      <td>192</td>\n",
       "    </tr>\n",
       "    <tr>\n",
       "      <th>4848</th>\n",
       "      <td>97</td>\n",
       "      <td>97</td>\n",
       "      <td>9409</td>\n",
       "      <td>194</td>\n",
       "    </tr>\n",
       "    <tr>\n",
       "      <th>4849</th>\n",
       "      <td>98</td>\n",
       "      <td>98</td>\n",
       "      <td>9604</td>\n",
       "      <td>196</td>\n",
       "    </tr>\n",
       "    <tr>\n",
       "      <th>4850</th>\n",
       "      <td>99</td>\n",
       "      <td>99</td>\n",
       "      <td>9801</td>\n",
       "      <td>198</td>\n",
       "    </tr>\n",
       "  </tbody>\n",
       "</table>\n",
       "<p>4851 rows × 4 columns</p>\n",
       "</div>"
      ],
      "text/plain": [
       "       a   b   dot  sum\n",
       "0      2   3     6    5\n",
       "1      2   4     8    6\n",
       "2      2   5    10    7\n",
       "3      2   6    12    8\n",
       "4      2   7    14    9\n",
       "...   ..  ..   ...  ...\n",
       "4846  95  95  9025  190\n",
       "4847  96  96  9216  192\n",
       "4848  97  97  9409  194\n",
       "4849  98  98  9604  196\n",
       "4850  99  99  9801  198\n",
       "\n",
       "[4851 rows x 4 columns]"
      ]
     },
     "execution_count": 3,
     "metadata": {},
     "output_type": "execute_result"
    }
   ],
   "source": [
    "# Пусті списку\n",
    "ls = []\n",
    "res = []\n",
    "\n",
    "# Добутки сумми і т.д. можна було більш лаконічно\n",
    "for i in range(2, 100):\n",
    "  ls.append(i)\n",
    "  for j in range(2, 100):\n",
    "    if j not in ls:\n",
    "      res.append([i, j, i * j, i +j])\n",
    "\n",
    "# Це по факту не потрібно бо під dot не пдходить но хай буде\n",
    "diagonal = [[i, i, i * i, 2 * i] for i in range(2, 100)]\n",
    "res += diagonal\n",
    "\n",
    "# Для зручності\n",
    "df_res = pd.DataFrame(res, columns=['a', 'b', 'dot', 'sum'])\n",
    "df_res"
   ]
  },
  {
   "cell_type": "code",
   "execution_count": 4,
   "id": "lSdHtB_wcsT9",
   "metadata": {
    "colab": {
     "base_uri": "https://localhost:8080/"
    },
    "executionInfo": {
     "elapsed": 395,
     "status": "ok",
     "timestamp": 1697103877186,
     "user": {
      "displayName": "Святослав Богай",
      "userId": "12018382299036809658"
     },
     "user_tz": -180
    },
    "id": "lSdHtB_wcsT9",
    "outputId": "4466d121-9685-47e6-c4f3-88b1fc8f498e",
    "tags": []
   },
   "outputs": [
    {
     "data": {
      "text/plain": [
       "Index([ 360,  720,  240, 1440,  180,  504,  480,  420, 1260,  840,\n",
       "       ...\n",
       "        188,  574,  148, 1230,  492, 1215,  518, 5148, 1125,  928],\n",
       "      dtype='int64', name='dot', length=1068)"
      ]
     },
     "execution_count": 4,
     "metadata": {},
     "output_type": "execute_result"
    }
   ],
   "source": [
    "# Просто глянути\n",
    "s = df_res['dot'].value_counts()\n",
    "s[s>1].index"
   ]
  },
  {
   "cell_type": "code",
   "execution_count": 5,
   "id": "d5jkaLlbcsW2",
   "metadata": {
    "colab": {
     "base_uri": "https://localhost:8080/",
     "height": 687
    },
    "executionInfo": {
     "elapsed": 403,
     "status": "ok",
     "timestamp": 1697103878885,
     "user": {
      "displayName": "Святослав Богай",
      "userId": "12018382299036809658"
     },
     "user_tz": -180
    },
    "id": "d5jkaLlbcsW2",
    "outputId": "8b0224c1-fc18-4b2a-e2aa-bcc32465f269",
    "tags": []
   },
   "outputs": [
    {
     "data": {
      "text/html": [
       "<div>\n",
       "<style scoped>\n",
       "    .dataframe tbody tr th:only-of-type {\n",
       "        vertical-align: middle;\n",
       "    }\n",
       "\n",
       "    .dataframe tbody tr th {\n",
       "        vertical-align: top;\n",
       "    }\n",
       "\n",
       "    .dataframe thead th {\n",
       "        text-align: right;\n",
       "    }\n",
       "</style>\n",
       "<table border=\"1\" class=\"dataframe\">\n",
       "  <thead>\n",
       "    <tr style=\"text-align: right;\">\n",
       "      <th></th>\n",
       "      <th>a</th>\n",
       "      <th>b</th>\n",
       "      <th>dot</th>\n",
       "      <th>sum</th>\n",
       "    </tr>\n",
       "  </thead>\n",
       "  <tbody>\n",
       "    <tr>\n",
       "      <th>3</th>\n",
       "      <td>2</td>\n",
       "      <td>6</td>\n",
       "      <td>12</td>\n",
       "      <td>8</td>\n",
       "    </tr>\n",
       "    <tr>\n",
       "      <th>5</th>\n",
       "      <td>2</td>\n",
       "      <td>8</td>\n",
       "      <td>16</td>\n",
       "      <td>10</td>\n",
       "    </tr>\n",
       "    <tr>\n",
       "      <th>6</th>\n",
       "      <td>2</td>\n",
       "      <td>9</td>\n",
       "      <td>18</td>\n",
       "      <td>11</td>\n",
       "    </tr>\n",
       "    <tr>\n",
       "      <th>7</th>\n",
       "      <td>2</td>\n",
       "      <td>10</td>\n",
       "      <td>20</td>\n",
       "      <td>12</td>\n",
       "    </tr>\n",
       "    <tr>\n",
       "      <th>9</th>\n",
       "      <td>2</td>\n",
       "      <td>12</td>\n",
       "      <td>24</td>\n",
       "      <td>14</td>\n",
       "    </tr>\n",
       "    <tr>\n",
       "      <th>...</th>\n",
       "      <td>...</td>\n",
       "      <td>...</td>\n",
       "      <td>...</td>\n",
       "      <td>...</td>\n",
       "    </tr>\n",
       "    <tr>\n",
       "      <th>4814</th>\n",
       "      <td>63</td>\n",
       "      <td>63</td>\n",
       "      <td>3969</td>\n",
       "      <td>126</td>\n",
       "    </tr>\n",
       "    <tr>\n",
       "      <th>4817</th>\n",
       "      <td>66</td>\n",
       "      <td>66</td>\n",
       "      <td>4356</td>\n",
       "      <td>132</td>\n",
       "    </tr>\n",
       "    <tr>\n",
       "      <th>4821</th>\n",
       "      <td>70</td>\n",
       "      <td>70</td>\n",
       "      <td>4900</td>\n",
       "      <td>140</td>\n",
       "    </tr>\n",
       "    <tr>\n",
       "      <th>4823</th>\n",
       "      <td>72</td>\n",
       "      <td>72</td>\n",
       "      <td>5184</td>\n",
       "      <td>144</td>\n",
       "    </tr>\n",
       "    <tr>\n",
       "      <th>4835</th>\n",
       "      <td>84</td>\n",
       "      <td>84</td>\n",
       "      <td>7056</td>\n",
       "      <td>168</td>\n",
       "    </tr>\n",
       "  </tbody>\n",
       "</table>\n",
       "<p>3076 rows × 4 columns</p>\n",
       "</div>"
      ],
      "text/plain": [
       "       a   b   dot  sum\n",
       "3      2   6    12    8\n",
       "5      2   8    16   10\n",
       "6      2   9    18   11\n",
       "7      2  10    20   12\n",
       "9      2  12    24   14\n",
       "...   ..  ..   ...  ...\n",
       "4814  63  63  3969  126\n",
       "4817  66  66  4356  132\n",
       "4821  70  70  4900  140\n",
       "4823  72  72  5184  144\n",
       "4835  84  84  7056  168\n",
       "\n",
       "[3076 rows x 4 columns]"
      ]
     },
     "execution_count": 5,
     "metadata": {},
     "output_type": "execute_result"
    }
   ],
   "source": [
    "# Перша умова\n",
    "indices = s[s > 1].index\n",
    "df_res = df_res.loc[df_res['dot'].isin(indices)]\n",
    "df_res"
   ]
  },
  {
   "cell_type": "code",
   "execution_count": 6,
   "id": "XvBwn-dWfHh0",
   "metadata": {
    "colab": {
     "base_uri": "https://localhost:8080/"
    },
    "executionInfo": {
     "elapsed": 281,
     "status": "ok",
     "timestamp": 1697103885331,
     "user": {
      "displayName": "Святослав Богай",
      "userId": "12018382299036809658"
     },
     "user_tz": -180
    },
    "id": "XvBwn-dWfHh0",
    "outputId": "7aa4812a-0aca-42a6-e3e9-fb066c7f7c05",
    "tags": []
   },
   "outputs": [
    {
     "data": {
      "text/plain": [
       "Index([165, 7, 173, 176, 179, 172, 175, 178, 168], dtype='int64', name='sum')"
      ]
     },
     "execution_count": 6,
     "metadata": {},
     "output_type": "execute_result"
    }
   ],
   "source": [
    "# Так само просто глянути\n",
    "s = df_res['sum'].value_counts()\n",
    "s[s==1].index"
   ]
  },
  {
   "cell_type": "code",
   "execution_count": 7,
   "id": "2pcceXc4fHlT",
   "metadata": {
    "colab": {
     "base_uri": "https://localhost:8080/",
     "height": 332
    },
    "executionInfo": {
     "elapsed": 274,
     "status": "ok",
     "timestamp": 1697103887820,
     "user": {
      "displayName": "Святослав Богай",
      "userId": "12018382299036809658"
     },
     "user_tz": -180
    },
    "id": "2pcceXc4fHlT",
    "outputId": "c8e9d2e9-d05e-43c7-d543-b3eb3492d9b7",
    "tags": []
   },
   "outputs": [
    {
     "data": {
      "text/html": [
       "<div>\n",
       "<style scoped>\n",
       "    .dataframe tbody tr th:only-of-type {\n",
       "        vertical-align: middle;\n",
       "    }\n",
       "\n",
       "    .dataframe tbody tr th {\n",
       "        vertical-align: top;\n",
       "    }\n",
       "\n",
       "    .dataframe thead th {\n",
       "        text-align: right;\n",
       "    }\n",
       "</style>\n",
       "<table border=\"1\" class=\"dataframe\">\n",
       "  <thead>\n",
       "    <tr style=\"text-align: right;\">\n",
       "      <th></th>\n",
       "      <th>a</th>\n",
       "      <th>b</th>\n",
       "      <th>dot</th>\n",
       "      <th>sum</th>\n",
       "    </tr>\n",
       "  </thead>\n",
       "  <tbody>\n",
       "    <tr>\n",
       "      <th>97</th>\n",
       "      <td>3</td>\n",
       "      <td>4</td>\n",
       "      <td>12</td>\n",
       "      <td>7</td>\n",
       "    </tr>\n",
       "    <tr>\n",
       "      <th>4314</th>\n",
       "      <td>69</td>\n",
       "      <td>96</td>\n",
       "      <td>6624</td>\n",
       "      <td>165</td>\n",
       "    </tr>\n",
       "    <tr>\n",
       "      <th>4518</th>\n",
       "      <td>77</td>\n",
       "      <td>96</td>\n",
       "      <td>7392</td>\n",
       "      <td>173</td>\n",
       "    </tr>\n",
       "    <tr>\n",
       "      <th>4541</th>\n",
       "      <td>78</td>\n",
       "      <td>98</td>\n",
       "      <td>7644</td>\n",
       "      <td>176</td>\n",
       "    </tr>\n",
       "    <tr>\n",
       "      <th>4581</th>\n",
       "      <td>80</td>\n",
       "      <td>99</td>\n",
       "      <td>7920</td>\n",
       "      <td>179</td>\n",
       "    </tr>\n",
       "    <tr>\n",
       "      <th>4636</th>\n",
       "      <td>84</td>\n",
       "      <td>88</td>\n",
       "      <td>7392</td>\n",
       "      <td>172</td>\n",
       "    </tr>\n",
       "    <tr>\n",
       "      <th>4639</th>\n",
       "      <td>84</td>\n",
       "      <td>91</td>\n",
       "      <td>7644</td>\n",
       "      <td>175</td>\n",
       "    </tr>\n",
       "    <tr>\n",
       "      <th>4688</th>\n",
       "      <td>88</td>\n",
       "      <td>90</td>\n",
       "      <td>7920</td>\n",
       "      <td>178</td>\n",
       "    </tr>\n",
       "    <tr>\n",
       "      <th>4835</th>\n",
       "      <td>84</td>\n",
       "      <td>84</td>\n",
       "      <td>7056</td>\n",
       "      <td>168</td>\n",
       "    </tr>\n",
       "  </tbody>\n",
       "</table>\n",
       "</div>"
      ],
      "text/plain": [
       "       a   b   dot  sum\n",
       "97     3   4    12    7\n",
       "4314  69  96  6624  165\n",
       "4518  77  96  7392  173\n",
       "4541  78  98  7644  176\n",
       "4581  80  99  7920  179\n",
       "4636  84  88  7392  172\n",
       "4639  84  91  7644  175\n",
       "4688  88  90  7920  178\n",
       "4835  84  84  7056  168"
      ]
     },
     "execution_count": 7,
     "metadata": {},
     "output_type": "execute_result"
    }
   ],
   "source": [
    "# Друга умова і результат\n",
    "indices = s[s == 1].index\n",
    "df_res = df_res.loc[df_res['sum'].isin(indices)]\n",
    "df_res"
   ]
  },
  {
   "cell_type": "markdown",
   "id": "oU_02t1dRAnO",
   "metadata": {
    "id": "oU_02t1dRAnO"
   },
   "source": [
    "По різному можна рішати, тупо в лоб, або математично через властивості чисел і т.д., це в лоб"
   ]
  }
 ],
 "metadata": {
  "colab": {
   "provenance": [],
   "toc_visible": true
  },
  "kernelspec": {
   "display_name": "Python 3 (ipykernel)",
   "language": "python",
   "name": "python3"
  },
  "language_info": {
   "codemirror_mode": {
    "name": "ipython",
    "version": 3
   },
   "file_extension": ".py",
   "mimetype": "text/x-python",
   "name": "python",
   "nbconvert_exporter": "python",
   "pygments_lexer": "ipython3",
   "version": "3.11.5"
  }
 },
 "nbformat": 4,
 "nbformat_minor": 5
}
