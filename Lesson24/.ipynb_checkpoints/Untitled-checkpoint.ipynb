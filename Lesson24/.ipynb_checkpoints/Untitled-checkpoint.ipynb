{
 "cells": [
  {
   "cell_type": "code",
   "execution_count": 42,
   "metadata": {},
   "outputs": [
    {
     "name": "stdout",
     "output_type": "stream",
     "text": [
      "Тема 0: ймовірність 0.013898267410695553\n",
      "Тема 1: ймовірність 0.12748074531555176\n",
      "Тема 2: ймовірність 0.6805775165557861\n",
      "Тема 3: ймовірність 0.15000617504119873\n",
      "Тема 4: ймовірність 0.014091270044445992\n",
      "Тема 5: ймовірність 0.013945979066193104\n",
      "\n",
      "Встановлена тема для нового документу: Тема 2\n"
     ]
    }
   ],
   "source": [
    "import nltk\n",
    "from nltk.stem import WordNetLemmatizer\n",
    "from gensim import models\n",
    "from gensim.corpora import Dictionary\n",
    "import os\n",
    "from gensim.parsing.preprocessing import remove_stopwords\n",
    "from gensim.utils import tokenize\n",
    "import warnings\n",
    "import pandas as pd\n",
    "\n",
    "warnings.filterwarnings('ignore')\n",
    "\n",
    "d_file = r'DATA/voted-kaggle-dataset.csv'\n",
    "path = os.path.join(os.getcwd(), d_file)\n",
    "df = pd.read_csv(path)\n",
    "\n",
    "lemmatizer = WordNetLemmatizer()\n",
    "\n",
    "texts = []\n",
    "for text in df['Description']:\n",
    "    text_no_stopwords = remove_stopwords(str(text))\n",
    "    tokens = list(tokenize(text_no_stopwords, lowercase=True, deacc=True))\n",
    "    tokens = [x for x in tokens if len(x) > 2]\n",
    "    tokens = [lemmatizer.lemmatize(x) for x in tokens]\n",
    "    texts.append(tokens)\n",
    "\n",
    "dictionary = Dictionary(texts)\n",
    "\n",
    "corpus = [dictionary.doc2bow(text) for text in texts]\n",
    "\n",
    "num_topics = 6\n",
    "lda_model = models.LdaModel(corpus, num_topics=num_topics, id2word=dictionary, passes=20, random_state=0)\n",
    "\n",
    "test_doc_list = [\"Some experts suggest that car may cause increased blood pressure. professionals say that brocolli is good \"]\n",
    "test_texts = [tokenize(text) for text in test_doc_list]\n",
    "test_corpus = [dictionary.doc2bow(text) for text in test_texts ]\n",
    "test_doc_topics = lda_model.get_document_topics(test_corpus)\n",
    "for e in test_doc_topics[0]:\n",
    "    print(f\"Тема {e[0]}: ймовірність {e[1]}\")\n",
    "main_topic = max(test_doc_topics[0], key=lambda x: x[1])[0]\n",
    "print(f\"\\nВстановлена тема для нового документу: Тема {main_topic}\")"
   ]
  }
 ],
 "metadata": {
  "kernelspec": {
   "display_name": "Python 3 (ipykernel)",
   "language": "python",
   "name": "python3"
  },
  "language_info": {
   "codemirror_mode": {
    "name": "ipython",
    "version": 3
   },
   "file_extension": ".py",
   "mimetype": "text/x-python",
   "name": "python",
   "nbconvert_exporter": "python",
   "pygments_lexer": "ipython3",
   "version": "3.11.7"
  }
 },
 "nbformat": 4,
 "nbformat_minor": 4
}
