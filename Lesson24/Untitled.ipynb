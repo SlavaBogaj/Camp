{
 "cells": [
  {
   "cell_type": "code",
   "execution_count": 1,
   "metadata": {},
   "outputs": [
    {
     "name": "stderr",
     "output_type": "stream",
     "text": [
      "C:\\Users\\Zver\\anaconda3\\lib\\site-packages\\pandas\\core\\computation\\expressions.py:20: UserWarning: Pandas requires version '2.7.3' or newer of 'numexpr' (version '2.7.1' currently installed).\n",
      "  from pandas.core.computation.check import NUMEXPR_INSTALLED\n"
     ]
    },
    {
     "name": "stdout",
     "output_type": "stream",
     "text": [
      "[(0, 0.043886937), (1, 0.9561131)]\n"
     ]
    }
   ],
   "source": [
    "import nltk\n",
    "from nltk.stem import WordNetLemmatizer\n",
    "from gensim import models\n",
    "from gensim.corpora import Dictionary\n",
    "import os\n",
    "from gensim.parsing.preprocessing import remove_stopwords\n",
    "from gensim.utils import tokenize\n",
    "import warnings\n",
    "import pandas as pd\n",
    "\n",
    "warnings.filterwarnings('ignore')\n",
    "\n",
    "d_file = r'DATA\\voted-kaggle-dataset.csv'\n",
    "path = os.path.join(os.getcwd(), d_file)\n",
    "df = pd.read_csv(path)\n",
    "\n",
    "lemmatizer = WordNetLemmatizer()\n",
    "\n",
    "texts = []\n",
    "for text in df['Description']:\n",
    "    text_no_stopwords = remove_stopwords(str(text))\n",
    "    tokens = list(tokenize(text_no_stopwords, lowercase=True, deacc=True))\n",
    "    tokens = [x for x in tokens if len(x) > 2]\n",
    "    tokens = [lemmatizer.lemmatize(x) for x in tokens]\n",
    "    texts.append(tokens)\n",
    "\n",
    "dictionary = Dictionary(texts)\n",
    "\n",
    "corpus = [dictionary.doc2bow(text) for text in texts]\n",
    "\n",
    "num_topics = 2\n",
    "lda_model = models.LdaModel(corpus, num_topics=num_topics, id2word=dictionary, passes=20, random_state=0)\n",
    "\n",
    "test_doc_list = [\"Some experts suggest that car may cause increased blood pressure. professionals say that brocolli is good \"]\n",
    "test_texts = [tokenize(text) for text in test_doc_list]\n",
    "test_corpus = [dictionary.doc2bow(text) for text in test_texts ]\n",
    "test_doc_topics = lda_model.get_document_topics(test_corpus)\n",
    "for el in test_doc_topics:\n",
    "    print(el)"
   ]
  },
  {
   "cell_type": "code",
   "execution_count": null,
   "metadata": {},
   "outputs": [],
   "source": []
  }
 ],
 "metadata": {
  "kernelspec": {
   "display_name": "Python 3",
   "language": "python",
   "name": "python3"
  },
  "language_info": {
   "codemirror_mode": {
    "name": "ipython",
    "version": 3
   },
   "file_extension": ".py",
   "mimetype": "text/x-python",
   "name": "python",
   "nbconvert_exporter": "python",
   "pygments_lexer": "ipython3",
   "version": "3.8.3"
  }
 },
 "nbformat": 4,
 "nbformat_minor": 4
}
