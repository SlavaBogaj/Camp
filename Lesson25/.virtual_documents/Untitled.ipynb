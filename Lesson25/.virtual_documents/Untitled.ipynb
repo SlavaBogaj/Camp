import os
import pandas as pd
import numpy as np
import matplotlib.pyplot as plt
from statsmodels.tsa.arima.model import ARIMA
from sklearn.metrics import mean_squared_error
import warnings

warnings.simplefilter("ignore")


path = os.getcwd()
path = os.path.join(path, 'DATA')

file_paths = {}
for file in os.listdir(path):
    file_paths[file.split('.')[0]] = os.path.join(path, file)
for key, path in file_paths.items():
    exec(f"{key}_df = pd.read_csv(path)")


train_df.head()


train_df.info()


df = train_df.copy()
df['date'] = pd.to_datetime(df['date'])
df['day_of_week'] = df['date'].dt.strftime('%A')
df


df.info()


np.random.seed(123)
ndr = np.random.choice(df.store_nbr.unique(), )


df_nbr = df[df['store_nbr'] == ndr]
df_nbr = df_nbr[['date', 'sales', 'day_of_week']]
df_nbr


df_nbr.isna().sum()


grouped_df = df_nbr.groupby('date').agg({'sales': 'sum', 'day_of_week': 'first'}).reset_index()
grouped_df


grouped_df[grouped_df['sales'] == 0]


grouped_df = grouped_df[grouped_df['sales'] != 0]
grouped_df


import matplotlib.pyplot as plt

plt.figure(figsize=(10, 6))
plt.plot(grouped_df['date'], grouped_df['sales'], marker='o', linestyle='-')
plt.title('Sales over Time')
plt.xlabel('Date')
plt.ylabel('Sales')
plt.xticks(rotation=45)  # Повертаємо підписи осі X на 45 градусів для зручності
plt.grid(True)
plt.tight_layout()
plt.show()



window_size = 7

grouped_df['SMA'] = grouped_df['sales'].rolling(window=window_size, min_periods=1).mean()
grouped_df.head(10)


import plotly.express as px

fig = px.line(grouped_df, x=grouped_df.index, y=["sales", "SMA"], title="Sales and Simple Moving Average (SMA)")
fig.show()


fig = px.box(grouped_df, x='day_of_week', y="sales", color="day_of_week",
             boxmode="overlay", points='all')
fig.show()


fbp_set = (grouped_df[['date', 'sales']])
fbp_set.rename(columns={"date": "ds", "sales":"y"}, inplace=True)
fbp_set.head()


window = 30
train, test = fbp_set[:-window], fbp_set[-window:]




















from prophet import Prophet

model = Prophet()
model.fit(grouped_df[['date', 'sales']])

# Створення фрейму для прогнозу
future = model.make_future_dataframe(periods=365)

# Прогнозування
forecast = model.predict(future)

# Виведення прогнозу
print(forecast[['ds', 'yhat', 'yhat_lower', 'yhat_upper']].tail())




