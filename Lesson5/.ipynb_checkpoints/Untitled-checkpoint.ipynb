{
 "cells": [
  {
   "cell_type": "code",
   "execution_count": 33,
   "id": "268347d2-6546-4ed2-8de6-355b5f82df14",
   "metadata": {
    "tags": []
   },
   "outputs": [],
   "source": [
    "import numpy as np\n",
    "import pandas as pd\n",
    "from sklearn.preprocessing import StandardScaler\n",
    "from sklearn.datasets import load_iris\n",
    "from sklearn.model_selection import train_test_split, GridSearchCV\n",
    "from sklearn.neighbors import KNeighborsClassifier\n",
    "import matplotlib.pyplot as plt\n",
    "import seaborn as sns"
   ]
  },
  {
   "cell_type": "code",
   "execution_count": 21,
   "id": "d583a075-acf7-49bd-a551-3c13dacd5a89",
   "metadata": {
    "tags": []
   },
   "outputs": [],
   "source": [
    "np.random.seed = 2021"
   ]
  },
  {
   "cell_type": "code",
   "execution_count": 22,
   "id": "df18d61a-fc2d-4556-ae17-3cb4da43013c",
   "metadata": {
    "tags": []
   },
   "outputs": [],
   "source": [
    "iris = load_iris()\n",
    "df_iris = pd.DataFrame(iris['data'], columns=iris['feature_names'])\n",
    "df_iris['Target'] = iris['target']\n",
    "df_iris['target name'] = np.where(df_iris['Target'] == 0, 'setosa', np.where(df_iris['Target'] == 1, 'versicolor', 'virginica'))"
   ]
  },
  {
   "cell_type": "code",
   "execution_count": 23,
   "id": "2ea05888-13a8-4b13-a2e1-f02be0c1ef47",
   "metadata": {
    "tags": []
   },
   "outputs": [
    {
     "data": {
      "text/html": [
       "<div>\n",
       "<style scoped>\n",
       "    .dataframe tbody tr th:only-of-type {\n",
       "        vertical-align: middle;\n",
       "    }\n",
       "\n",
       "    .dataframe tbody tr th {\n",
       "        vertical-align: top;\n",
       "    }\n",
       "\n",
       "    .dataframe thead th {\n",
       "        text-align: right;\n",
       "    }\n",
       "</style>\n",
       "<table border=\"1\" class=\"dataframe\">\n",
       "  <thead>\n",
       "    <tr style=\"text-align: right;\">\n",
       "      <th></th>\n",
       "      <th>sepal length (cm)</th>\n",
       "      <th>sepal width (cm)</th>\n",
       "      <th>petal length (cm)</th>\n",
       "      <th>petal width (cm)</th>\n",
       "      <th>Target</th>\n",
       "      <th>target name</th>\n",
       "    </tr>\n",
       "  </thead>\n",
       "  <tbody>\n",
       "    <tr>\n",
       "      <th>0</th>\n",
       "      <td>5.1</td>\n",
       "      <td>3.5</td>\n",
       "      <td>1.4</td>\n",
       "      <td>0.2</td>\n",
       "      <td>0</td>\n",
       "      <td>setosa</td>\n",
       "    </tr>\n",
       "    <tr>\n",
       "      <th>1</th>\n",
       "      <td>4.9</td>\n",
       "      <td>3.0</td>\n",
       "      <td>1.4</td>\n",
       "      <td>0.2</td>\n",
       "      <td>0</td>\n",
       "      <td>setosa</td>\n",
       "    </tr>\n",
       "    <tr>\n",
       "      <th>2</th>\n",
       "      <td>4.7</td>\n",
       "      <td>3.2</td>\n",
       "      <td>1.3</td>\n",
       "      <td>0.2</td>\n",
       "      <td>0</td>\n",
       "      <td>setosa</td>\n",
       "    </tr>\n",
       "    <tr>\n",
       "      <th>3</th>\n",
       "      <td>4.6</td>\n",
       "      <td>3.1</td>\n",
       "      <td>1.5</td>\n",
       "      <td>0.2</td>\n",
       "      <td>0</td>\n",
       "      <td>setosa</td>\n",
       "    </tr>\n",
       "    <tr>\n",
       "      <th>4</th>\n",
       "      <td>5.0</td>\n",
       "      <td>3.6</td>\n",
       "      <td>1.4</td>\n",
       "      <td>0.2</td>\n",
       "      <td>0</td>\n",
       "      <td>setosa</td>\n",
       "    </tr>\n",
       "    <tr>\n",
       "      <th>...</th>\n",
       "      <td>...</td>\n",
       "      <td>...</td>\n",
       "      <td>...</td>\n",
       "      <td>...</td>\n",
       "      <td>...</td>\n",
       "      <td>...</td>\n",
       "    </tr>\n",
       "    <tr>\n",
       "      <th>145</th>\n",
       "      <td>6.7</td>\n",
       "      <td>3.0</td>\n",
       "      <td>5.2</td>\n",
       "      <td>2.3</td>\n",
       "      <td>2</td>\n",
       "      <td>virginica</td>\n",
       "    </tr>\n",
       "    <tr>\n",
       "      <th>146</th>\n",
       "      <td>6.3</td>\n",
       "      <td>2.5</td>\n",
       "      <td>5.0</td>\n",
       "      <td>1.9</td>\n",
       "      <td>2</td>\n",
       "      <td>virginica</td>\n",
       "    </tr>\n",
       "    <tr>\n",
       "      <th>147</th>\n",
       "      <td>6.5</td>\n",
       "      <td>3.0</td>\n",
       "      <td>5.2</td>\n",
       "      <td>2.0</td>\n",
       "      <td>2</td>\n",
       "      <td>virginica</td>\n",
       "    </tr>\n",
       "    <tr>\n",
       "      <th>148</th>\n",
       "      <td>6.2</td>\n",
       "      <td>3.4</td>\n",
       "      <td>5.4</td>\n",
       "      <td>2.3</td>\n",
       "      <td>2</td>\n",
       "      <td>virginica</td>\n",
       "    </tr>\n",
       "    <tr>\n",
       "      <th>149</th>\n",
       "      <td>5.9</td>\n",
       "      <td>3.0</td>\n",
       "      <td>5.1</td>\n",
       "      <td>1.8</td>\n",
       "      <td>2</td>\n",
       "      <td>virginica</td>\n",
       "    </tr>\n",
       "  </tbody>\n",
       "</table>\n",
       "<p>150 rows × 6 columns</p>\n",
       "</div>"
      ],
      "text/plain": [
       "     sepal length (cm)  sepal width (cm)  petal length (cm)  petal width (cm)  \\\n",
       "0                  5.1               3.5                1.4               0.2   \n",
       "1                  4.9               3.0                1.4               0.2   \n",
       "2                  4.7               3.2                1.3               0.2   \n",
       "3                  4.6               3.1                1.5               0.2   \n",
       "4                  5.0               3.6                1.4               0.2   \n",
       "..                 ...               ...                ...               ...   \n",
       "145                6.7               3.0                5.2               2.3   \n",
       "146                6.3               2.5                5.0               1.9   \n",
       "147                6.5               3.0                5.2               2.0   \n",
       "148                6.2               3.4                5.4               2.3   \n",
       "149                5.9               3.0                5.1               1.8   \n",
       "\n",
       "     Target target name  \n",
       "0         0      setosa  \n",
       "1         0      setosa  \n",
       "2         0      setosa  \n",
       "3         0      setosa  \n",
       "4         0      setosa  \n",
       "..      ...         ...  \n",
       "145       2   virginica  \n",
       "146       2   virginica  \n",
       "147       2   virginica  \n",
       "148       2   virginica  \n",
       "149       2   virginica  \n",
       "\n",
       "[150 rows x 6 columns]"
      ]
     },
     "execution_count": 23,
     "metadata": {},
     "output_type": "execute_result"
    }
   ],
   "source": [
    "df_iris"
   ]
  },
  {
   "cell_type": "code",
   "execution_count": 15,
   "id": "198b8be8-73bc-4ded-8953-1dad2a314786",
   "metadata": {
    "tags": []
   },
   "outputs": [],
   "source": [
    "X = df_iris.iloc[:,:-2]\n",
    "y = df_iris['Target']"
   ]
  },
  {
   "cell_type": "code",
   "execution_count": 91,
   "id": "b3f1d4e3-e574-48d0-9722-3af4328e8cc8",
   "metadata": {
    "tags": []
   },
   "outputs": [],
   "source": [
    "X_train, X_test, y_train, y_test = train_test_split(X, y, test_size=0.2, random_state=42)"
   ]
  },
  {
   "cell_type": "code",
   "execution_count": 99,
   "id": "5c2c8984-65c3-409b-afa7-1300137e5567",
   "metadata": {
    "tags": []
   },
   "outputs": [],
   "source": [
    "scaler = StandardScaler()\n",
    "X_train_scaler = scaler.fit_transform(X_train)\n",
    "X_test_scaler = scaler.transform(X_test)"
   ]
  },
  {
   "cell_type": "code",
   "execution_count": 120,
   "id": "ed22eee7-12fe-431a-9e15-7257430870dd",
   "metadata": {
    "tags": []
   },
   "outputs": [],
   "source": [
    "steps_k = [x for x in range(1, 120) if x % 2 != 0]"
   ]
  },
  {
   "cell_type": "code",
   "execution_count": 121,
   "id": "056e2227-a773-452b-9984-ecb5e907a28d",
   "metadata": {
    "tags": []
   },
   "outputs": [],
   "source": [
    "curve_train, curve_test = [], []\n",
    "for k in steps_k:\n",
    "    knn = KNeighborsClassifier(n_neighbors=k)\n",
    "    knn.fit(X_train_scaler, y_train)\n",
    "    curve_train.append([k, knn.score(X_train_scaler, y_train)])\n",
    "    curve_test.append([k, knn.score(X_test_scaler, y_test)])"
   ]
  },
  {
   "cell_type": "code",
   "execution_count": 122,
   "id": "f9c4bb90-d9f0-47f0-b1bf-9c19de681b03",
   "metadata": {
    "tags": []
   },
   "outputs": [
    {
     "data": {
      "text/plain": [
       "[[1, 1.0],\n",
       " [3, 0.9416666666666667],\n",
       " [5, 0.9583333333333334],\n",
       " [7, 0.9583333333333334],\n",
       " [9, 0.95],\n",
       " [11, 0.9583333333333334],\n",
       " [13, 0.9583333333333334],\n",
       " [15, 0.9583333333333334],\n",
       " [17, 0.95],\n",
       " [19, 0.95],\n",
       " [21, 0.95],\n",
       " [23, 0.95],\n",
       " [25, 0.9583333333333334],\n",
       " [27, 0.95],\n",
       " [29, 0.925],\n",
       " [31, 0.925],\n",
       " [33, 0.9],\n",
       " [35, 0.8833333333333333],\n",
       " [37, 0.8666666666666667],\n",
       " [39, 0.8583333333333333],\n",
       " [41, 0.8666666666666667],\n",
       " [43, 0.8666666666666667],\n",
       " [45, 0.8666666666666667],\n",
       " [47, 0.8666666666666667],\n",
       " [49, 0.8583333333333333],\n",
       " [51, 0.8583333333333333],\n",
       " [53, 0.8583333333333333],\n",
       " [55, 0.8583333333333333],\n",
       " [57, 0.8416666666666667],\n",
       " [59, 0.8333333333333334],\n",
       " [61, 0.8416666666666667],\n",
       " [63, 0.8333333333333334],\n",
       " [65, 0.8333333333333334],\n",
       " [67, 0.8166666666666667],\n",
       " [69, 0.825],\n",
       " [71, 0.8333333333333334],\n",
       " [73, 0.8333333333333334],\n",
       " [75, 0.8333333333333334],\n",
       " [77, 0.8166666666666667],\n",
       " [79, 0.6666666666666666],\n",
       " [81, 0.6833333333333333],\n",
       " [83, 0.6833333333333333],\n",
       " [85, 0.6833333333333333],\n",
       " [87, 0.675],\n",
       " [89, 0.6666666666666666],\n",
       " [91, 0.65],\n",
       " [93, 0.5583333333333333],\n",
       " [95, 0.49166666666666664],\n",
       " [97, 0.4583333333333333],\n",
       " [99, 0.44166666666666665],\n",
       " [101, 0.425],\n",
       " [103, 0.4083333333333333],\n",
       " [105, 0.4],\n",
       " [107, 0.4],\n",
       " [109, 0.39166666666666666],\n",
       " [111, 0.39166666666666666],\n",
       " [113, 0.36666666666666664],\n",
       " [115, 0.35],\n",
       " [117, 0.35],\n",
       " [119, 0.3416666666666667]]"
      ]
     },
     "execution_count": 122,
     "metadata": {},
     "output_type": "execute_result"
    }
   ],
   "source": [
    "curve_train"
   ]
  },
  {
   "cell_type": "code",
   "execution_count": 129,
   "id": "2f5a72d7-ec8f-40a8-aec0-6267ca8e12ab",
   "metadata": {
    "tags": []
   },
   "outputs": [
    {
     "data": {
      "image/png": "[encoded data removed]",
      "text/plain": [
       "<Figure size 1500x600 with 1 Axes>"
      ]
     },
     "metadata": {},
     "output_type": "display_data"
    }
   ],
   "source": [
    "plt.figure(figsize=(15, 6))\n",
    "x_values_train = [point[0] for point in curve_train]\n",
    "y_values_train = [point[1] for point in curve_train]\n",
    "sns.lineplot(x=x_values_train, y=y_values_train, label='Training Score')\n",
    "x_values_test = [point[0] for point in curve_test]\n",
    "y_values_test = [point[1] for point in curve_test]\n",
    "sns.lineplot(x=x_values_test, y=y_values_test, label='Test Score')\n",
    "plt.xlabel('K Values')\n",
    "plt.ylabel('Score')\n",
    "plt.title('Score Train Test')\n",
    "plt.grid(True)\n",
    "plt.legend()\n",
    "plt.show()"
   ]
  },
  {
   "cell_type": "code",
   "execution_count": 112,
   "id": "3634015c-d41a-43e5-8c53-8aa56a754a20",
   "metadata": {
    "tags": []
   },
   "outputs": [
    {
     "data": {
      "text/plain": [
       "0.3333333333333333"
      ]
     },
     "execution_count": 112,
     "metadata": {},
     "output_type": "execute_result"
    }
   ],
   "source": [
    "grid_search.score(X_test_scaler, y_test)"
   ]
  },
  {
   "cell_type": "code",
   "execution_count": null,
   "id": "35d7b789-8168-4120-9edd-614ac4577b2a",
   "metadata": {},
   "outputs": [],
   "source": []
  }
 ],
 "metadata": {
  "kernelspec": {
   "display_name": "Python 3 (ipykernel)",
   "language": "python",
   "name": "python3"
  },
  "language_info": {
   "codemirror_mode": {
    "name": "ipython",
    "version": 3
   },
   "file_extension": ".py",
   "mimetype": "text/x-python",
   "name": "python",
   "nbconvert_exporter": "python",
   "pygments_lexer": "ipython3",
   "version": "3.11.5"
  }
 },
 "nbformat": 4,
 "nbformat_minor": 5
}
