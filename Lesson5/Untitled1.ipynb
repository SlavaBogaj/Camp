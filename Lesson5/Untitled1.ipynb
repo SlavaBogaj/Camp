{
 "cells": [
  {
   "cell_type": "code",
   "execution_count": 54,
   "metadata": {},
   "outputs": [
    {
     "ename": "TypeError",
     "evalue": "__init__() got an unexpected keyword argument 'refit_time_eval_set'",
     "output_type": "error",
     "traceback": [
      "\u001b[1;31m---------------------------------------------------------------------------\u001b[0m",
      "\u001b[1;31mTypeError\u001b[0m                                 Traceback (most recent call last)",
      "\u001b[1;32m<ipython-input-54-cf1087d163f5>\u001b[0m in \u001b[0;36m<module>\u001b[1;34m\u001b[0m\n\u001b[0;32m     29\u001b[0m \u001b[1;33m\u001b[0m\u001b[0m\n\u001b[0;32m     30\u001b[0m \u001b[0mknn\u001b[0m \u001b[1;33m=\u001b[0m \u001b[0mKNeighborsClassifier\u001b[0m\u001b[1;33m(\u001b[0m\u001b[1;33m)\u001b[0m\u001b[1;33m\u001b[0m\u001b[1;33m\u001b[0m\u001b[0m\n\u001b[1;32m---> 31\u001b[1;33m \u001b[0mgrid_search\u001b[0m \u001b[1;33m=\u001b[0m \u001b[0mGridSearchCV\u001b[0m\u001b[1;33m(\u001b[0m\u001b[0mknn\u001b[0m\u001b[1;33m,\u001b[0m \u001b[0mparam_grid\u001b[0m\u001b[1;33m,\u001b[0m \u001b[0mrefit_time_eval_set\u001b[0m\u001b[1;33m=\u001b[0m\u001b[1;33m[\u001b[0m\u001b[1;33m(\u001b[0m\u001b[0mX_test_scaler\u001b[0m\u001b[1;33m,\u001b[0m \u001b[0my_test\u001b[0m\u001b[1;33m)\u001b[0m\u001b[1;33m]\u001b[0m\u001b[1;33m,\u001b[0m \u001b[0mcv\u001b[0m\u001b[1;33m=\u001b[0m\u001b[1;36m3\u001b[0m\u001b[1;33m,\u001b[0m \u001b[0mscoring\u001b[0m\u001b[1;33m=\u001b[0m\u001b[0mscoring\u001b[0m\u001b[1;33m,\u001b[0m \u001b[0mrefit\u001b[0m\u001b[1;33m=\u001b[0m\u001b[1;34m'accuracy'\u001b[0m\u001b[1;33m)\u001b[0m\u001b[1;33m\u001b[0m\u001b[1;33m\u001b[0m\u001b[0m\n\u001b[0m\u001b[0;32m     32\u001b[0m \u001b[0mgrid_search\u001b[0m\u001b[1;33m.\u001b[0m\u001b[0mfit\u001b[0m\u001b[1;33m(\u001b[0m\u001b[0mX_train_scaler\u001b[0m\u001b[1;33m,\u001b[0m \u001b[0my_train\u001b[0m\u001b[1;33m)\u001b[0m\u001b[1;33m\u001b[0m\u001b[1;33m\u001b[0m\u001b[0m\n",
      "\u001b[1;31mTypeError\u001b[0m: __init__() got an unexpected keyword argument 'refit_time_eval_set'"
     ]
    }
   ],
   "source": [
    "%matplotlib inline\n",
    "import numpy as np\n",
    "import pandas as pd\n",
    "from sklearn.metrics import confusion_matrix, recall_score, precision_score, f1_score, get_scorer_names\n",
    "from sklearn.preprocessing import StandardScaler\n",
    "from sklearn.datasets import load_iris\n",
    "from sklearn.model_selection import train_test_split, GridSearchCV\n",
    "from sklearn.neighbors import KNeighborsClassifier\n",
    "import matplotlib.pyplot as plt\n",
    "import plotly.express as px\n",
    "\n",
    "iris = load_iris()\n",
    "df_iris = pd.DataFrame(iris['data'], columns=iris['feature_names'])\n",
    "df_iris['Target'] = iris['target']\n",
    "df_iris['target name'] = np.where(df_iris['Target'] == 0, 'setosa', np.where(df_iris['Target'] == 1, 'versicolor', 'virginica'))\n",
    "X = df_iris.iloc[:,:-2]\n",
    "y = df_iris['Target']\n",
    "\n",
    "X_train, X_test, y_train, y_test = train_test_split(X, y, test_size=0.2, random_state=0)\n",
    "\n",
    "scaler = StandardScaler()\n",
    "X_train_scaler = scaler.fit_transform(X_train)\n",
    "X_test_scaler = scaler.transform(X_test)\n",
    "\n",
    "scoring = ['accuracy', 'roc_auc_ovo', 'f1_macro']\n",
    "param_grid = {\n",
    "    'n_neighbors': [x for x in range(1, 60) if x%2 == 1]\n",
    "}\n",
    "\n",
    "knn = KNeighborsClassifier()\n",
    "grid_search = GridSearchCV(knn, param_grid, refit_time_eval_set=[(X_test_scaler, y_test)], cv=3, scoring=scoring, refit='accuracy')\n",
    "grid_search.fit(X_train_scaler, y_train)\n"
   ]
  },
  {
   "cell_type": "code",
   "execution_count": 56,
   "metadata": {},
   "outputs": [
    {
     "name": "stdout",
     "output_type": "stream",
     "text": [
      "1.2.2\n"
     ]
    }
   ],
   "source": [
    "import sklearn\n",
    "print(sklearn.__version__)"
   ]
  },
  {
   "cell_type": "code",
   "execution_count": 50,
   "metadata": {},
   "outputs": [
    {
     "data": {
      "text/html": [
       "<style>#sk-container-id-15 {color: black;background-color: white;}#sk-container-id-15 pre{padding: 0;}#sk-container-id-15 div.sk-toggleable {background-color: white;}#sk-container-id-15 label.sk-toggleable__label {cursor: pointer;display: block;width: 100%;margin-bottom: 0;padding: 0.3em;box-sizing: border-box;text-align: center;}#sk-container-id-15 label.sk-toggleable__label-arrow:before {content: \"▸\";float: left;margin-right: 0.25em;color: #696969;}#sk-container-id-15 label.sk-toggleable__label-arrow:hover:before {color: black;}#sk-container-id-15 div.sk-estimator:hover label.sk-toggleable__label-arrow:before {color: black;}#sk-container-id-15 div.sk-toggleable__content {max-height: 0;max-width: 0;overflow: hidden;text-align: left;background-color: #f0f8ff;}#sk-container-id-15 div.sk-toggleable__content pre {margin: 0.2em;color: black;border-radius: 0.25em;background-color: #f0f8ff;}#sk-container-id-15 input.sk-toggleable__control:checked~div.sk-toggleable__content {max-height: 200px;max-width: 100%;overflow: auto;}#sk-container-id-15 input.sk-toggleable__control:checked~label.sk-toggleable__label-arrow:before {content: \"▾\";}#sk-container-id-15 div.sk-estimator input.sk-toggleable__control:checked~label.sk-toggleable__label {background-color: #d4ebff;}#sk-container-id-15 div.sk-label input.sk-toggleable__control:checked~label.sk-toggleable__label {background-color: #d4ebff;}#sk-container-id-15 input.sk-hidden--visually {border: 0;clip: rect(1px 1px 1px 1px);clip: rect(1px, 1px, 1px, 1px);height: 1px;margin: -1px;overflow: hidden;padding: 0;position: absolute;width: 1px;}#sk-container-id-15 div.sk-estimator {font-family: monospace;background-color: #f0f8ff;border: 1px dotted black;border-radius: 0.25em;box-sizing: border-box;margin-bottom: 0.5em;}#sk-container-id-15 div.sk-estimator:hover {background-color: #d4ebff;}#sk-container-id-15 div.sk-parallel-item::after {content: \"\";width: 100%;border-bottom: 1px solid gray;flex-grow: 1;}#sk-container-id-15 div.sk-label:hover label.sk-toggleable__label {background-color: #d4ebff;}#sk-container-id-15 div.sk-serial::before {content: \"\";position: absolute;border-left: 1px solid gray;box-sizing: border-box;top: 0;bottom: 0;left: 50%;z-index: 0;}#sk-container-id-15 div.sk-serial {display: flex;flex-direction: column;align-items: center;background-color: white;padding-right: 0.2em;padding-left: 0.2em;position: relative;}#sk-container-id-15 div.sk-item {position: relative;z-index: 1;}#sk-container-id-15 div.sk-parallel {display: flex;align-items: stretch;justify-content: center;background-color: white;position: relative;}#sk-container-id-15 div.sk-item::before, #sk-container-id-15 div.sk-parallel-item::before {content: \"\";position: absolute;border-left: 1px solid gray;box-sizing: border-box;top: 0;bottom: 0;left: 50%;z-index: -1;}#sk-container-id-15 div.sk-parallel-item {display: flex;flex-direction: column;z-index: 1;position: relative;background-color: white;}#sk-container-id-15 div.sk-parallel-item:first-child::after {align-self: flex-end;width: 50%;}#sk-container-id-15 div.sk-parallel-item:last-child::after {align-self: flex-start;width: 50%;}#sk-container-id-15 div.sk-parallel-item:only-child::after {width: 0;}#sk-container-id-15 div.sk-dashed-wrapped {border: 1px dashed gray;margin: 0 0.4em 0.5em 0.4em;box-sizing: border-box;padding-bottom: 0.4em;background-color: white;}#sk-container-id-15 div.sk-label label {font-family: monospace;font-weight: bold;display: inline-block;line-height: 1.2em;}#sk-container-id-15 div.sk-label-container {text-align: center;}#sk-container-id-15 div.sk-container {/* jupyter's `normalize.less` sets `[hidden] { display: none; }` but bootstrap.min.css set `[hidden] { display: none !important; }` so we also need the `!important` here to be able to override the default hidden behavior on the sphinx rendered scikit-learn.org. See: https://github.com/scikit-learn/scikit-learn/issues/21755 */display: inline-block !important;position: relative;}#sk-container-id-15 div.sk-text-repr-fallback {display: none;}</style><div id=\"sk-container-id-15\" class=\"sk-top-container\"><div class=\"sk-text-repr-fallback\"><pre>KNeighborsClassifier(n_neighbors=9)</pre><b>In a Jupyter environment, please rerun this cell to show the HTML representation or trust the notebook. <br />On GitHub, the HTML representation is unable to render, please try loading this page with nbviewer.org.</b></div><div class=\"sk-container\" hidden><div class=\"sk-item\"><div class=\"sk-estimator sk-toggleable\"><input class=\"sk-toggleable__control sk-hidden--visually\" id=\"sk-estimator-id-33\" type=\"checkbox\" checked><label for=\"sk-estimator-id-33\" class=\"sk-toggleable__label sk-toggleable__label-arrow\">KNeighborsClassifier</label><div class=\"sk-toggleable__content\"><pre>KNeighborsClassifier(n_neighbors=9)</pre></div></div></div></div></div>"
      ],
      "text/plain": [
       "KNeighborsClassifier(n_neighbors=9)"
      ]
     },
     "execution_count": 50,
     "metadata": {},
     "output_type": "execute_result"
    }
   ],
   "source": [
    "grid_search.best_estimator_"
   ]
  },
  {
   "cell_type": "code",
   "execution_count": 51,
   "metadata": {},
   "outputs": [
    {
     "data": {
      "text/html": [
       "<div>\n",
       "<style scoped>\n",
       "    .dataframe tbody tr th:only-of-type {\n",
       "        vertical-align: middle;\n",
       "    }\n",
       "\n",
       "    .dataframe tbody tr th {\n",
       "        vertical-align: top;\n",
       "    }\n",
       "\n",
       "    .dataframe thead th {\n",
       "        text-align: right;\n",
       "    }\n",
       "</style>\n",
       "<table border=\"1\" class=\"dataframe\">\n",
       "  <thead>\n",
       "    <tr style=\"text-align: right;\">\n",
       "      <th></th>\n",
       "      <th>mean_fit_time</th>\n",
       "      <th>std_fit_time</th>\n",
       "      <th>mean_score_time</th>\n",
       "      <th>std_score_time</th>\n",
       "      <th>param_n_neighbors</th>\n",
       "      <th>params</th>\n",
       "      <th>split0_test_accuracy</th>\n",
       "      <th>split1_test_accuracy</th>\n",
       "      <th>split2_test_accuracy</th>\n",
       "      <th>mean_test_accuracy</th>\n",
       "      <th>...</th>\n",
       "      <th>split2_test_roc_auc_ovo</th>\n",
       "      <th>mean_test_roc_auc_ovo</th>\n",
       "      <th>std_test_roc_auc_ovo</th>\n",
       "      <th>rank_test_roc_auc_ovo</th>\n",
       "      <th>split0_test_f1_macro</th>\n",
       "      <th>split1_test_f1_macro</th>\n",
       "      <th>split2_test_f1_macro</th>\n",
       "      <th>mean_test_f1_macro</th>\n",
       "      <th>std_test_f1_macro</th>\n",
       "      <th>rank_test_f1_macro</th>\n",
       "    </tr>\n",
       "  </thead>\n",
       "  <tbody>\n",
       "    <tr>\n",
       "      <th>0</th>\n",
       "      <td>0.002321</td>\n",
       "      <td>0.001231</td>\n",
       "      <td>0.011900</td>\n",
       "      <td>9.386653e-04</td>\n",
       "      <td>1</td>\n",
       "      <td>{'n_neighbors': 1}</td>\n",
       "      <td>0.925</td>\n",
       "      <td>0.950</td>\n",
       "      <td>0.925</td>\n",
       "      <td>0.933333</td>\n",
       "      <td>...</td>\n",
       "      <td>0.942308</td>\n",
       "      <td>0.949359</td>\n",
       "      <td>0.007616</td>\n",
       "      <td>23</td>\n",
       "      <td>0.925517</td>\n",
       "      <td>0.948136</td>\n",
       "      <td>0.924264</td>\n",
       "      <td>0.932639</td>\n",
       "      <td>0.010970</td>\n",
       "      <td>6</td>\n",
       "    </tr>\n",
       "    <tr>\n",
       "      <th>1</th>\n",
       "      <td>0.000666</td>\n",
       "      <td>0.000471</td>\n",
       "      <td>0.009684</td>\n",
       "      <td>1.218631e-03</td>\n",
       "      <td>3</td>\n",
       "      <td>{'n_neighbors': 3}</td>\n",
       "      <td>0.900</td>\n",
       "      <td>0.975</td>\n",
       "      <td>0.925</td>\n",
       "      <td>0.933333</td>\n",
       "      <td>...</td>\n",
       "      <td>0.994505</td>\n",
       "      <td>0.986262</td>\n",
       "      <td>0.012557</td>\n",
       "      <td>7</td>\n",
       "      <td>0.901099</td>\n",
       "      <td>0.974755</td>\n",
       "      <td>0.924264</td>\n",
       "      <td>0.933372</td>\n",
       "      <td>0.030752</td>\n",
       "      <td>4</td>\n",
       "    </tr>\n",
       "    <tr>\n",
       "      <th>2</th>\n",
       "      <td>0.000000</td>\n",
       "      <td>0.000000</td>\n",
       "      <td>0.009999</td>\n",
       "      <td>4.495664e-07</td>\n",
       "      <td>5</td>\n",
       "      <td>{'n_neighbors': 5}</td>\n",
       "      <td>0.875</td>\n",
       "      <td>0.975</td>\n",
       "      <td>0.950</td>\n",
       "      <td>0.933333</td>\n",
       "      <td>...</td>\n",
       "      <td>0.996337</td>\n",
       "      <td>0.990576</td>\n",
       "      <td>0.008396</td>\n",
       "      <td>3</td>\n",
       "      <td>0.875862</td>\n",
       "      <td>0.974755</td>\n",
       "      <td>0.950000</td>\n",
       "      <td>0.933539</td>\n",
       "      <td>0.042017</td>\n",
       "      <td>3</td>\n",
       "    </tr>\n",
       "    <tr>\n",
       "      <th>3</th>\n",
       "      <td>0.000000</td>\n",
       "      <td>0.000000</td>\n",
       "      <td>0.011666</td>\n",
       "      <td>2.356909e-03</td>\n",
       "      <td>7</td>\n",
       "      <td>{'n_neighbors': 7}</td>\n",
       "      <td>0.875</td>\n",
       "      <td>1.000</td>\n",
       "      <td>0.950</td>\n",
       "      <td>0.941667</td>\n",
       "      <td>...</td>\n",
       "      <td>0.998168</td>\n",
       "      <td>0.991673</td>\n",
       "      <td>0.010507</td>\n",
       "      <td>2</td>\n",
       "      <td>0.875862</td>\n",
       "      <td>1.000000</td>\n",
       "      <td>0.950000</td>\n",
       "      <td>0.941954</td>\n",
       "      <td>0.050997</td>\n",
       "      <td>2</td>\n",
       "    </tr>\n",
       "    <tr>\n",
       "      <th>4</th>\n",
       "      <td>0.001666</td>\n",
       "      <td>0.002357</td>\n",
       "      <td>0.009999</td>\n",
       "      <td>1.946680e-07</td>\n",
       "      <td>9</td>\n",
       "      <td>{'n_neighbors': 9}</td>\n",
       "      <td>0.900</td>\n",
       "      <td>1.000</td>\n",
       "      <td>0.950</td>\n",
       "      <td>0.950000</td>\n",
       "      <td>...</td>\n",
       "      <td>0.997253</td>\n",
       "      <td>0.990442</td>\n",
       "      <td>0.011628</td>\n",
       "      <td>4</td>\n",
       "      <td>0.901099</td>\n",
       "      <td>1.000000</td>\n",
       "      <td>0.950000</td>\n",
       "      <td>0.950366</td>\n",
       "      <td>0.040377</td>\n",
       "      <td>1</td>\n",
       "    </tr>\n",
       "  </tbody>\n",
       "</table>\n",
       "<p>5 rows × 24 columns</p>\n",
       "</div>"
      ],
      "text/plain": [
       "   mean_fit_time  std_fit_time  mean_score_time  std_score_time  \\\n",
       "0       0.002321      0.001231         0.011900    9.386653e-04   \n",
       "1       0.000666      0.000471         0.009684    1.218631e-03   \n",
       "2       0.000000      0.000000         0.009999    4.495664e-07   \n",
       "3       0.000000      0.000000         0.011666    2.356909e-03   \n",
       "4       0.001666      0.002357         0.009999    1.946680e-07   \n",
       "\n",
       "  param_n_neighbors              params  split0_test_accuracy  \\\n",
       "0                 1  {'n_neighbors': 1}                 0.925   \n",
       "1                 3  {'n_neighbors': 3}                 0.900   \n",
       "2                 5  {'n_neighbors': 5}                 0.875   \n",
       "3                 7  {'n_neighbors': 7}                 0.875   \n",
       "4                 9  {'n_neighbors': 9}                 0.900   \n",
       "\n",
       "   split1_test_accuracy  split2_test_accuracy  mean_test_accuracy  ...  \\\n",
       "0                 0.950                 0.925            0.933333  ...   \n",
       "1                 0.975                 0.925            0.933333  ...   \n",
       "2                 0.975                 0.950            0.933333  ...   \n",
       "3                 1.000                 0.950            0.941667  ...   \n",
       "4                 1.000                 0.950            0.950000  ...   \n",
       "\n",
       "   split2_test_roc_auc_ovo  mean_test_roc_auc_ovo  std_test_roc_auc_ovo  \\\n",
       "0                 0.942308               0.949359              0.007616   \n",
       "1                 0.994505               0.986262              0.012557   \n",
       "2                 0.996337               0.990576              0.008396   \n",
       "3                 0.998168               0.991673              0.010507   \n",
       "4                 0.997253               0.990442              0.011628   \n",
       "\n",
       "   rank_test_roc_auc_ovo  split0_test_f1_macro  split1_test_f1_macro  \\\n",
       "0                     23              0.925517              0.948136   \n",
       "1                      7              0.901099              0.974755   \n",
       "2                      3              0.875862              0.974755   \n",
       "3                      2              0.875862              1.000000   \n",
       "4                      4              0.901099              1.000000   \n",
       "\n",
       "   split2_test_f1_macro  mean_test_f1_macro  std_test_f1_macro  \\\n",
       "0              0.924264            0.932639           0.010970   \n",
       "1              0.924264            0.933372           0.030752   \n",
       "2              0.950000            0.933539           0.042017   \n",
       "3              0.950000            0.941954           0.050997   \n",
       "4              0.950000            0.950366           0.040377   \n",
       "\n",
       "   rank_test_f1_macro  \n",
       "0                   6  \n",
       "1                   4  \n",
       "2                   3  \n",
       "3                   2  \n",
       "4                   1  \n",
       "\n",
       "[5 rows x 24 columns]"
      ]
     },
     "execution_count": 51,
     "metadata": {},
     "output_type": "execute_result"
    }
   ],
   "source": [
    "pd.DataFrame(grid_search.cv_results_).head()"
   ]
  },
  {
   "cell_type": "code",
   "execution_count": 52,
   "metadata": {},
   "outputs": [
    {
     "data": {
      "text/plain": [
       "1.0"
      ]
     },
     "execution_count": 52,
     "metadata": {},
     "output_type": "execute_result"
    }
   ],
   "source": [
    "grid_search.score(X_test_scaler, y_test)"
   ]
  },
  {
   "cell_type": "code",
   "execution_count": 53,
   "metadata": {},
   "outputs": [
    {
     "data": {
      "image/png": "[encoded data removed]",
      "text/plain": [
       "<Figure size 1080x432 with 1 Axes>"
      ]
     },
     "metadata": {
      "needs_background": "light"
     },
     "output_type": "display_data"
    }
   ],
   "source": [
    "import matplotlib.pyplot as plt\n",
    "\n",
    "# Створюємо пустий графік\n",
    "plt.figure(figsize=(15, 6))\n",
    "\n",
    "# Побудова графіків для кожної метрики\n",
    "plt.plot(results_df['param_n_neighbors'], results_df['mean_test_accuracy'], label='Accuracy')\n",
    "plt.plot(results_df['param_n_neighbors'], results_df['mean_test_roc_auc_ovo'], label='ROC AUC (OvO)')\n",
    "plt.plot(results_df['param_n_neighbors'], results_df['mean_test_f1_macro'], label='F1 Macro')\n",
    "\n",
    "# Налаштування графіку\n",
    "plt.title('Performance Metrics vs Number of Neighbors')\n",
    "plt.xlabel('Number of Neighbors')\n",
    "plt.ylabel('Score')\n",
    "plt.legend()  # Вивести легенду\n",
    "\n",
    "# Показати графік\n",
    "plt.grid()\n",
    "plt.show()"
   ]
  },
  {
   "cell_type": "code",
   "execution_count": null,
   "metadata": {},
   "outputs": [],
   "source": []
  },
  {
   "cell_type": "code",
   "execution_count": 7,
   "metadata": {},
   "outputs": [
    {
     "data": {
      "image/png": "[encoded data removed]",
      "text/plain": [
       "<Figure size 1080x432 with 1 Axes>"
      ]
     },
     "metadata": {
      "needs_background": "light"
     },
     "output_type": "display_data"
    }
   ],
   "source": [
    "k_values = [point[0] for point in curve_train]\n",
    "train_scores = [point[1] for point in curve_train]\n",
    "train_recall = [point[2] for point in curve_train]\n",
    "train_precision = [point[3] for point in curve_train]\n",
    "train_f1 = [point[4] for point in curve_train]\n",
    "\n",
    "test_scores = [point[1] for point in curve_test]\n",
    "test_recall = [point[2] for point in curve_test]\n",
    "test_precision = [point[3] for point in curve_test]\n",
    "test_f1 = [point[4] for point in curve_test]\n",
    "\n",
    "plt.figure(figsize=(15, 6))\n",
    "\n",
    "plt.plot(k_values, train_scores, label='Train Score', marker='o')\n",
    "plt.plot(k_values, train_recall, label='Train Recall', marker='x')\n",
    "plt.plot(k_values, train_precision, label='Train Precision', marker='s')\n",
    "plt.plot(k_values, train_f1, label='Train F1', marker='d')\n",
    "\n",
    "plt.plot(k_values, test_scores, label='Test Score', linestyle='--', marker='o')\n",
    "plt.plot(k_values, test_recall, label='Test Recall', linestyle='--', marker='x')\n",
    "plt.plot(k_values, test_precision, label='Test Precision', linestyle='--', marker='s')\n",
    "plt.plot(k_values, test_f1, label='Test F1', linestyle='--', marker='d')\n",
    "\n",
    "plt.xlabel('K Values')\n",
    "plt.ylabel('Metrics Values')\n",
    "plt.title('Metrics vs K Values')\n",
    "plt.grid(True)\n",
    "plt.legend()\n",
    "plt.show()"
   ]
  },
  {
   "cell_type": "code",
   "execution_count": 12,
   "metadata": {},
   "outputs": [
    {
     "data": {
      "application/vnd.plotly.v1+json": {
       "config": {
        "plotlyServerURL": "https://plot.ly"
       },
       "data": [
        {
         "hovertemplate": "variable=Train_score<br>K=%{x}<br>value=%{y}<extra></extra>",
         "legendgroup": "Train_score",
         "line": {
          "color": "#636efa",
          "dash": "solid"
         },
         "marker": {
          "symbol": "circle"
         },
         "mode": "lines",
         "name": "Train_score",
         "orientation": "v",
         "showlegend": true,
         "type": "scatter",
         "x": [
          1,
          3,
          5,
          7,
          9,
          11,
          13,
          15,
          17,
          19,
          21,
          23,
          25,
          27,
          29,
          31,
          33,
          35,
          37,
          39,
          41,
          43,
          45,
          47,
          49,
          51,
          53,
          55,
          57,
          59,
          61,
          63,
          65,
          67,
          69,
          71,
          73,
          75,
          77,
          79,
          81,
          83,
          85,
          87,
          89,
          91,
          93,
          95
         ],
         "xaxis": "x",
         "y": [
          1,
          0.9416666666666667,
          0.9583333333333334,
          0.9583333333333334,
          0.95,
          0.9583333333333334,
          0.9583333333333334,
          0.9583333333333334,
          0.95,
          0.95,
          0.95,
          0.95,
          0.9583333333333334,
          0.95,
          0.925,
          0.925,
          0.9,
          0.8833333333333333,
          0.8666666666666667,
          0.8583333333333333,
          0.8666666666666667,
          0.8666666666666667,
          0.8666666666666667,
          0.8666666666666667,
          0.8583333333333333,
          0.8583333333333333,
          0.8583333333333333,
          0.8583333333333333,
          0.8416666666666667,
          0.8333333333333334,
          0.8416666666666667,
          0.8333333333333334,
          0.8333333333333334,
          0.8166666666666667,
          0.825,
          0.8333333333333334,
          0.8333333333333334,
          0.8333333333333334,
          0.8166666666666667,
          0.6666666666666666,
          0.6833333333333333,
          0.6833333333333333,
          0.6833333333333333,
          0.675,
          0.6666666666666666,
          0.65,
          0.5583333333333333,
          0.49166666666666664
         ],
         "yaxis": "y"
        },
        {
         "hovertemplate": "variable=Train_recall<br>K=%{x}<br>value=%{y}<extra></extra>",
         "legendgroup": "Train_recall",
         "line": {
          "color": "#EF553B",
          "dash": "solid"
         },
         "marker": {
          "symbol": "circle"
         },
         "mode": "lines",
         "name": "Train_recall",
         "orientation": "v",
         "showlegend": true,
         "type": "scatter",
         "x": [
          1,
          3,
          5,
          7,
          9,
          11,
          13,
          15,
          17,
          19,
          21,
          23,
          25,
          27,
          29,
          31,
          33,
          35,
          37,
          39,
          41,
          43,
          45,
          47,
          49,
          51,
          53,
          55,
          57,
          59,
          61,
          63,
          65,
          67,
          69,
          71,
          73,
          75,
          77,
          79,
          81,
          83,
          85,
          87,
          89,
          91,
          93,
          95
         ],
         "xaxis": "x",
         "y": [
          1,
          0.9414217219095268,
          0.9580988117573485,
          0.9580988117573485,
          0.9495518032103397,
          0.9580988117573485,
          0.9580988117573485,
          0.9580988117573485,
          0.9499687304565354,
          0.9499687304565354,
          0.9499687304565354,
          0.9495518032103397,
          0.9580988117573485,
          0.9495518032103397,
          0.9243277048155097,
          0.9243277048155097,
          0.898686679174484,
          0.8820095893266625,
          0.8649155722326455,
          0.8563685636856367,
          0.8644986449864498,
          0.8644986449864498,
          0.8644986449864498,
          0.8644986449864498,
          0.8563685636856367,
          0.8563685636856367,
          0.8563685636856367,
          0.8563685636856367,
          0.8401084010840107,
          0.8315613925370022,
          0.8396914738378153,
          0.8315613925370022,
          0.8315613925370022,
          0.8153012299353763,
          0.8234313112361892,
          0.8315613925370022,
          0.8315613925370022,
          0.8311444652908068,
          0.8144673754429852,
          0.6593704398582447,
          0.6756306024598707,
          0.6756306024598707,
          0.6756306024598707,
          0.6672972691265374,
          0.6587502605795289,
          0.6420835939128622,
          0.5502136752136751,
          0.48354700854700855
         ],
         "yaxis": "y"
        },
        {
         "hovertemplate": "variable=Train_precision<br>K=%{x}<br>value=%{y}<extra></extra>",
         "legendgroup": "Train_precision",
         "line": {
          "color": "#00cc96",
          "dash": "solid"
         },
         "marker": {
          "symbol": "circle"
         },
         "mode": "lines",
         "name": "Train_precision",
         "orientation": "v",
         "showlegend": true,
         "type": "scatter",
         "x": [
          1,
          3,
          5,
          7,
          9,
          11,
          13,
          15,
          17,
          19,
          21,
          23,
          25,
          27,
          29,
          31,
          33,
          35,
          37,
          39,
          41,
          43,
          45,
          47,
          49,
          51,
          53,
          55,
          57,
          59,
          61,
          63,
          65,
          67,
          69,
          71,
          73,
          75,
          77,
          79,
          81,
          83,
          85,
          87,
          89,
          91,
          93,
          95
         ],
         "xaxis": "x",
         "y": [
          1,
          0.941938178780284,
          0.9586466165413534,
          0.9586466165413534,
          0.9509742300439975,
          0.9586466165413534,
          0.9586466165413534,
          0.9586466165413534,
          0.9499687304565354,
          0.9499687304565354,
          0.9499687304565354,
          0.9509742300439975,
          0.9586466165413534,
          0.9509742300439975,
          0.9267676767676768,
          0.9267676767676768,
          0.9058671824629272,
          0.8886739737803567,
          0.8753565942506034,
          0.8688888888888888,
          0.8805499211178724,
          0.8805499211178724,
          0.8805499211178724,
          0.8805499211178724,
          0.8688888888888888,
          0.8688888888888888,
          0.8688888888888888,
          0.8688888888888888,
          0.8472222222222222,
          0.8402457757296468,
          0.851111111111111,
          0.8402457757296468,
          0.8402457757296468,
          0.8199011390500752,
          0.8298611111111112,
          0.8402457757296468,
          0.8402457757296468,
          0.8444895199459094,
          0.826459319359928,
          0.6355555555555555,
          0.7287157287157288,
          0.7287157287157288,
          0.7287157287157288,
          0.7264957264957265,
          0.6687763713080169,
          0.6646090534979424,
          0.8120567375886525,
          0.8006535947712418
         ],
         "yaxis": "y"
        },
        {
         "hovertemplate": "variable=Train_f1<br>K=%{x}<br>value=%{y}<extra></extra>",
         "legendgroup": "Train_f1",
         "line": {
          "color": "#ab63fa",
          "dash": "solid"
         },
         "marker": {
          "symbol": "circle"
         },
         "mode": "lines",
         "name": "Train_f1",
         "orientation": "v",
         "showlegend": true,
         "type": "scatter",
         "x": [
          1,
          3,
          5,
          7,
          9,
          11,
          13,
          15,
          17,
          19,
          21,
          23,
          25,
          27,
          29,
          31,
          33,
          35,
          37,
          39,
          41,
          43,
          45,
          47,
          49,
          51,
          53,
          55,
          57,
          59,
          61,
          63,
          65,
          67,
          69,
          71,
          73,
          75,
          77,
          79,
          81,
          83,
          85,
          87,
          89,
          91,
          93,
          95
         ],
         "xaxis": "x",
         "y": [
          1,
          0.9415845198977729,
          0.9582746570698378,
          0.9582746570698378,
          0.9498746867167921,
          0.9582746570698378,
          0.9582746570698378,
          0.9582746570698378,
          0.9499687304565354,
          0.9499687304565354,
          0.9499687304565354,
          0.9498746867167921,
          0.9582746570698378,
          0.9498746867167921,
          0.9247058823529412,
          0.9247058823529412,
          0.8989898989898991,
          0.882154882154882,
          0.8645502645502646,
          0.8556033338642034,
          0.8635976129582268,
          0.8635976129582268,
          0.8635976129582268,
          0.8635976129582268,
          0.8556033338642034,
          0.8556033338642034,
          0.8556033338642034,
          0.8556033338642034,
          0.8396370733765891,
          0.8306878306878307,
          0.8386154907894038,
          0.8306878306878307,
          0.8306878306878307,
          0.8148148148148149,
          0.822756765310967,
          0.8306878306878307,
          0.8306878306878307,
          0.8294970161977835,
          0.8124467178175617,
          0.5820271682340649,
          0.5910680656443369,
          0.5910680656443369,
          0.5910680656443369,
          0.5849495916510064,
          0.5675963088744812,
          0.555185717920624,
          0.4755460588793923,
          0.40663926716558296
         ],
         "yaxis": "y"
        },
        {
         "hovertemplate": "variable=Test_score<br>K=%{x}<br>value=%{y}<extra></extra>",
         "legendgroup": "Test_score",
         "line": {
          "color": "#FFA15A",
          "dash": "solid"
         },
         "marker": {
          "symbol": "circle"
         },
         "mode": "lines",
         "name": "Test_score",
         "orientation": "v",
         "showlegend": true,
         "type": "scatter",
         "x": [
          1,
          3,
          5,
          7,
          9,
          11,
          13,
          15,
          17,
          19,
          21,
          23,
          25,
          27,
          29,
          31,
          33,
          35,
          37,
          39,
          41,
          43,
          45,
          47,
          49,
          51,
          53,
          55,
          57,
          59,
          61,
          63,
          65,
          67,
          69,
          71,
          73,
          75,
          77,
          79,
          81,
          83,
          85,
          87,
          89,
          91,
          93,
          95
         ],
         "xaxis": "x",
         "y": [
          1,
          1,
          1,
          1,
          1,
          1,
          1,
          1,
          1,
          1,
          1,
          1,
          1,
          1,
          0.9666666666666667,
          0.9666666666666667,
          0.9666666666666667,
          0.9666666666666667,
          0.9333333333333333,
          0.9666666666666667,
          0.9666666666666667,
          0.9666666666666667,
          0.9666666666666667,
          0.9666666666666667,
          0.9333333333333333,
          0.9333333333333333,
          0.9333333333333333,
          0.9333333333333333,
          0.9333333333333333,
          0.9333333333333333,
          0.9333333333333333,
          0.9333333333333333,
          0.9333333333333333,
          0.9666666666666667,
          0.9,
          0.9333333333333333,
          0.9333333333333333,
          0.9,
          0.9,
          0.6333333333333333,
          0.6666666666666666,
          0.6666666666666666,
          0.6666666666666666,
          0.6666666666666666,
          0.6666666666666666,
          0.6666666666666666,
          0.4666666666666667,
          0.43333333333333335
         ],
         "yaxis": "y"
        },
        {
         "hovertemplate": "variable=Test_recall<br>K=%{x}<br>value=%{y}<extra></extra>",
         "legendgroup": "Test_recall",
         "line": {
          "color": "#19d3f3",
          "dash": "solid"
         },
         "marker": {
          "symbol": "circle"
         },
         "mode": "lines",
         "name": "Test_recall",
         "orientation": "v",
         "showlegend": true,
         "type": "scatter",
         "x": [
          1,
          3,
          5,
          7,
          9,
          11,
          13,
          15,
          17,
          19,
          21,
          23,
          25,
          27,
          29,
          31,
          33,
          35,
          37,
          39,
          41,
          43,
          45,
          47,
          49,
          51,
          53,
          55,
          57,
          59,
          61,
          63,
          65,
          67,
          69,
          71,
          73,
          75,
          77,
          79,
          81,
          83,
          85,
          87,
          89,
          91,
          93,
          95
         ],
         "xaxis": "x",
         "y": [
          1,
          1,
          1,
          1,
          1,
          1,
          1,
          1,
          1,
          1,
          1,
          1,
          1,
          1,
          0.9696969696969697,
          0.9696969696969697,
          0.9696969696969697,
          0.9696969696969697,
          0.9326599326599326,
          0.9696969696969697,
          0.9696969696969697,
          0.9696969696969697,
          0.9696969696969697,
          0.9696969696969697,
          0.9326599326599326,
          0.9326599326599326,
          0.9326599326599326,
          0.9326599326599326,
          0.9326599326599326,
          0.9326599326599326,
          0.9326599326599326,
          0.9326599326599326,
          0.9326599326599326,
          0.9629629629629629,
          0.9023569023569024,
          0.9326599326599326,
          0.9326599326599326,
          0.9023569023569024,
          0.9023569023569024,
          0.6599326599326599,
          0.6969696969696969,
          0.6969696969696969,
          0.6969696969696969,
          0.6969696969696969,
          0.6969696969696969,
          0.6969696969696969,
          0.4969696969696969,
          0.4636363636363636
         ],
         "yaxis": "y"
        },
        {
         "hovertemplate": "variable=Test_precision<br>K=%{x}<br>value=%{y}<extra></extra>",
         "legendgroup": "Test_precision",
         "line": {
          "color": "#FF6692",
          "dash": "solid"
         },
         "marker": {
          "symbol": "circle"
         },
         "mode": "lines",
         "name": "Test_precision",
         "orientation": "v",
         "showlegend": true,
         "type": "scatter",
         "x": [
          1,
          3,
          5,
          7,
          9,
          11,
          13,
          15,
          17,
          19,
          21,
          23,
          25,
          27,
          29,
          31,
          33,
          35,
          37,
          39,
          41,
          43,
          45,
          47,
          49,
          51,
          53,
          55,
          57,
          59,
          61,
          63,
          65,
          67,
          69,
          71,
          73,
          75,
          77,
          79,
          81,
          83,
          85,
          87,
          89,
          91,
          93,
          95
         ],
         "xaxis": "x",
         "y": [
          1,
          1,
          1,
          1,
          1,
          1,
          1,
          1,
          1,
          1,
          1,
          1,
          1,
          1,
          0.9666666666666667,
          0.9666666666666667,
          0.9666666666666667,
          0.9666666666666667,
          0.9326599326599326,
          0.9666666666666667,
          0.9666666666666667,
          0.9666666666666667,
          0.9666666666666667,
          0.9666666666666667,
          0.9326599326599326,
          0.9326599326599326,
          0.9326599326599326,
          0.9326599326599326,
          0.9326599326599326,
          0.9326599326599326,
          0.9326599326599326,
          0.9326599326599326,
          0.9326599326599326,
          0.9722222222222222,
          0.9,
          0.9326599326599326,
          0.9326599326599326,
          0.9,
          0.9,
          0.6481481481481481,
          0.8245614035087719,
          0.8245614035087719,
          0.8245614035087719,
          0.8245614035087719,
          0.8245614035087719,
          0.8245614035087719,
          0.7866666666666666,
          0.782051282051282
         ],
         "yaxis": "y"
        },
        {
         "hovertemplate": "variable=Test_f1<br>K=%{x}<br>value=%{y}<extra></extra>",
         "legendgroup": "Test_f1",
         "line": {
          "color": "#B6E880",
          "dash": "solid"
         },
         "marker": {
          "symbol": "circle"
         },
         "mode": "lines",
         "name": "Test_f1",
         "orientation": "v",
         "showlegend": true,
         "type": "scatter",
         "x": [
          1,
          3,
          5,
          7,
          9,
          11,
          13,
          15,
          17,
          19,
          21,
          23,
          25,
          27,
          29,
          31,
          33,
          35,
          37,
          39,
          41,
          43,
          45,
          47,
          49,
          51,
          53,
          55,
          57,
          59,
          61,
          63,
          65,
          67,
          69,
          71,
          73,
          75,
          77,
          79,
          81,
          83,
          85,
          87,
          89,
          91,
          93,
          95
         ],
         "xaxis": "x",
         "y": [
          1,
          1,
          1,
          1,
          1,
          1,
          1,
          1,
          1,
          1,
          1,
          1,
          1,
          1,
          0.9665831244778613,
          0.9665831244778613,
          0.9665831244778613,
          0.9665831244778613,
          0.9326599326599326,
          0.9665831244778613,
          0.9665831244778613,
          0.9665831244778613,
          0.9665831244778613,
          0.9665831244778613,
          0.9326599326599326,
          0.9326599326599326,
          0.9326599326599326,
          0.9326599326599326,
          0.9326599326599326,
          0.9326599326599326,
          0.9326599326599326,
          0.9326599326599326,
          0.9326599326599326,
          0.9658994032395567,
          0.899749373433584,
          0.9326599326599326,
          0.9326599326599326,
          0.899749373433584,
          0.899749373433584,
          0.5821462488129154,
          0.6031746031746031,
          0.6031746031746031,
          0.6031746031746031,
          0.6031746031746031,
          0.6031746031746031,
          0.6031746031746031,
          0.4225023342670402,
          0.3808302808302808
         ],
         "yaxis": "y"
        }
       ],
       "layout": {
        "legend": {
         "title": {
          "text": "variable"
         },
         "tracegroupgap": 0
        },
        "template": {
         "data": {
          "bar": [
           {
            "error_x": {
             "color": "#2a3f5f"
            },
            "error_y": {
             "color": "#2a3f5f"
            },
            "marker": {
             "line": {
              "color": "#E5ECF6",
              "width": 0.5
             },
             "pattern": {
              "fillmode": "overlay",
              "size": 10,
              "solidity": 0.2
             }
            },
            "type": "bar"
           }
          ],
          "barpolar": [
           {
            "marker": {
             "line": {
              "color": "#E5ECF6",
              "width": 0.5
             },
             "pattern": {
              "fillmode": "overlay",
              "size": 10,
              "solidity": 0.2
             }
            },
            "type": "barpolar"
           }
          ],
          "carpet": [
           {
            "aaxis": {
             "endlinecolor": "#2a3f5f",
             "gridcolor": "white",
             "linecolor": "white",
             "minorgridcolor": "white",
             "startlinecolor": "#2a3f5f"
            },
            "baxis": {
             "endlinecolor": "#2a3f5f",
             "gridcolor": "white",
             "linecolor": "white",
             "minorgridcolor": "white",
             "startlinecolor": "#2a3f5f"
            },
            "type": "carpet"
           }
          ],
          "choropleth": [
           {
            "colorbar": {
             "outlinewidth": 0,
             "ticks": ""
            },
            "type": "choropleth"
           }
          ],
          "contour": [
           {
            "colorbar": {
             "outlinewidth": 0,
             "ticks": ""
            },
            "colorscale": [
             [
              0,
              "#0d0887"
             ],
             [
              0.1111111111111111,
              "#46039f"
             ],
             [
              0.2222222222222222,
              "#7201a8"
             ],
             [
              0.3333333333333333,
              "#9c179e"
             ],
             [
              0.4444444444444444,
              "#bd3786"
             ],
             [
              0.5555555555555556,
              "#d8576b"
             ],
             [
              0.6666666666666666,
              "#ed7953"
             ],
             [
              0.7777777777777778,
              "#fb9f3a"
             ],
             [
              0.8888888888888888,
              "#fdca26"
             ],
             [
              1,
              "#f0f921"
             ]
            ],
            "type": "contour"
           }
          ],
          "contourcarpet": [
           {
            "colorbar": {
             "outlinewidth": 0,
             "ticks": ""
            },
            "type": "contourcarpet"
           }
          ],
          "heatmap": [
           {
            "colorbar": {
             "outlinewidth": 0,
             "ticks": ""
            },
            "colorscale": [
             [
              0,
              "#0d0887"
             ],
             [
              0.1111111111111111,
              "#46039f"
             ],
             [
              0.2222222222222222,
              "#7201a8"
             ],
             [
              0.3333333333333333,
              "#9c179e"
             ],
             [
              0.4444444444444444,
              "#bd3786"
             ],
             [
              0.5555555555555556,
              "#d8576b"
             ],
             [
              0.6666666666666666,
              "#ed7953"
             ],
             [
              0.7777777777777778,
              "#fb9f3a"
             ],
             [
              0.8888888888888888,
              "#fdca26"
             ],
             [
              1,
              "#f0f921"
             ]
            ],
            "type": "heatmap"
           }
          ],
          "heatmapgl": [
           {
            "colorbar": {
             "outlinewidth": 0,
             "ticks": ""
            },
            "colorscale": [
             [
              0,
              "#0d0887"
             ],
             [
              0.1111111111111111,
              "#46039f"
             ],
             [
              0.2222222222222222,
              "#7201a8"
             ],
             [
              0.3333333333333333,
              "#9c179e"
             ],
             [
              0.4444444444444444,
              "#bd3786"
             ],
             [
              0.5555555555555556,
              "#d8576b"
             ],
             [
              0.6666666666666666,
              "#ed7953"
             ],
             [
              0.7777777777777778,
              "#fb9f3a"
             ],
             [
              0.8888888888888888,
              "#fdca26"
             ],
             [
              1,
              "#f0f921"
             ]
            ],
            "type": "heatmapgl"
           }
          ],
          "histogram": [
           {
            "marker": {
             "pattern": {
              "fillmode": "overlay",
              "size": 10,
              "solidity": 0.2
             }
            },
            "type": "histogram"
           }
          ],
          "histogram2d": [
           {
            "colorbar": {
             "outlinewidth": 0,
             "ticks": ""
            },
            "colorscale": [
             [
              0,
              "#0d0887"
             ],
             [
              0.1111111111111111,
              "#46039f"
             ],
             [
              0.2222222222222222,
              "#7201a8"
             ],
             [
              0.3333333333333333,
              "#9c179e"
             ],
             [
              0.4444444444444444,
              "#bd3786"
             ],
             [
              0.5555555555555556,
              "#d8576b"
             ],
             [
              0.6666666666666666,
              "#ed7953"
             ],
             [
              0.7777777777777778,
              "#fb9f3a"
             ],
             [
              0.8888888888888888,
              "#fdca26"
             ],
             [
              1,
              "#f0f921"
             ]
            ],
            "type": "histogram2d"
           }
          ],
          "histogram2dcontour": [
           {
            "colorbar": {
             "outlinewidth": 0,
             "ticks": ""
            },
            "colorscale": [
             [
              0,
              "#0d0887"
             ],
             [
              0.1111111111111111,
              "#46039f"
             ],
             [
              0.2222222222222222,
              "#7201a8"
             ],
             [
              0.3333333333333333,
              "#9c179e"
             ],
             [
              0.4444444444444444,
              "#bd3786"
             ],
             [
              0.5555555555555556,
              "#d8576b"
             ],
             [
              0.6666666666666666,
              "#ed7953"
             ],
             [
              0.7777777777777778,
              "#fb9f3a"
             ],
             [
              0.8888888888888888,
              "#fdca26"
             ],
             [
              1,
              "#f0f921"
             ]
            ],
            "type": "histogram2dcontour"
           }
          ],
          "mesh3d": [
           {
            "colorbar": {
             "outlinewidth": 0,
             "ticks": ""
            },
            "type": "mesh3d"
           }
          ],
          "parcoords": [
           {
            "line": {
             "colorbar": {
              "outlinewidth": 0,
              "ticks": ""
             }
            },
            "type": "parcoords"
           }
          ],
          "pie": [
           {
            "automargin": true,
            "type": "pie"
           }
          ],
          "scatter": [
           {
            "fillpattern": {
             "fillmode": "overlay",
             "size": 10,
             "solidity": 0.2
            },
            "type": "scatter"
           }
          ],
          "scatter3d": [
           {
            "line": {
             "colorbar": {
              "outlinewidth": 0,
              "ticks": ""
             }
            },
            "marker": {
             "colorbar": {
              "outlinewidth": 0,
              "ticks": ""
             }
            },
            "type": "scatter3d"
           }
          ],
          "scattercarpet": [
           {
            "marker": {
             "colorbar": {
              "outlinewidth": 0,
              "ticks": ""
             }
            },
            "type": "scattercarpet"
           }
          ],
          "scattergeo": [
           {
            "marker": {
             "colorbar": {
              "outlinewidth": 0,
              "ticks": ""
             }
            },
            "type": "scattergeo"
           }
          ],
          "scattergl": [
           {
            "marker": {
             "colorbar": {
              "outlinewidth": 0,
              "ticks": ""
             }
            },
            "type": "scattergl"
           }
          ],
          "scattermapbox": [
           {
            "marker": {
             "colorbar": {
              "outlinewidth": 0,
              "ticks": ""
             }
            },
            "type": "scattermapbox"
           }
          ],
          "scatterpolar": [
           {
            "marker": {
             "colorbar": {
              "outlinewidth": 0,
              "ticks": ""
             }
            },
            "type": "scatterpolar"
           }
          ],
          "scatterpolargl": [
           {
            "marker": {
             "colorbar": {
              "outlinewidth": 0,
              "ticks": ""
             }
            },
            "type": "scatterpolargl"
           }
          ],
          "scatterternary": [
           {
            "marker": {
             "colorbar": {
              "outlinewidth": 0,
              "ticks": ""
             }
            },
            "type": "scatterternary"
           }
          ],
          "surface": [
           {
            "colorbar": {
             "outlinewidth": 0,
             "ticks": ""
            },
            "colorscale": [
             [
              0,
              "#0d0887"
             ],
             [
              0.1111111111111111,
              "#46039f"
             ],
             [
              0.2222222222222222,
              "#7201a8"
             ],
             [
              0.3333333333333333,
              "#9c179e"
             ],
             [
              0.4444444444444444,
              "#bd3786"
             ],
             [
              0.5555555555555556,
              "#d8576b"
             ],
             [
              0.6666666666666666,
              "#ed7953"
             ],
             [
              0.7777777777777778,
              "#fb9f3a"
             ],
             [
              0.8888888888888888,
              "#fdca26"
             ],
             [
              1,
              "#f0f921"
             ]
            ],
            "type": "surface"
           }
          ],
          "table": [
           {
            "cells": {
             "fill": {
              "color": "#EBF0F8"
             },
             "line": {
              "color": "white"
             }
            },
            "header": {
             "fill": {
              "color": "#C8D4E3"
             },
             "line": {
              "color": "white"
             }
            },
            "type": "table"
           }
          ]
         },
         "layout": {
          "annotationdefaults": {
           "arrowcolor": "#2a3f5f",
           "arrowhead": 0,
           "arrowwidth": 1
          },
          "autotypenumbers": "strict",
          "coloraxis": {
           "colorbar": {
            "outlinewidth": 0,
            "ticks": ""
           }
          },
          "colorscale": {
           "diverging": [
            [
             0,
             "#8e0152"
            ],
            [
             0.1,
             "#c51b7d"
            ],
            [
             0.2,
             "#de77ae"
            ],
            [
             0.3,
             "#f1b6da"
            ],
            [
             0.4,
             "#fde0ef"
            ],
            [
             0.5,
             "#f7f7f7"
            ],
            [
             0.6,
             "#e6f5d0"
            ],
            [
             0.7,
             "#b8e186"
            ],
            [
             0.8,
             "#7fbc41"
            ],
            [
             0.9,
             "#4d9221"
            ],
            [
             1,
             "#276419"
            ]
           ],
           "sequential": [
            [
             0,
             "#0d0887"
            ],
            [
             0.1111111111111111,
             "#46039f"
            ],
            [
             0.2222222222222222,
             "#7201a8"
            ],
            [
             0.3333333333333333,
             "#9c179e"
            ],
            [
             0.4444444444444444,
             "#bd3786"
            ],
            [
             0.5555555555555556,
             "#d8576b"
            ],
            [
             0.6666666666666666,
             "#ed7953"
            ],
            [
             0.7777777777777778,
             "#fb9f3a"
            ],
            [
             0.8888888888888888,
             "#fdca26"
            ],
            [
             1,
             "#f0f921"
            ]
           ],
           "sequentialminus": [
            [
             0,
             "#0d0887"
            ],
            [
             0.1111111111111111,
             "#46039f"
            ],
            [
             0.2222222222222222,
             "#7201a8"
            ],
            [
             0.3333333333333333,
             "#9c179e"
            ],
            [
             0.4444444444444444,
             "#bd3786"
            ],
            [
             0.5555555555555556,
             "#d8576b"
            ],
            [
             0.6666666666666666,
             "#ed7953"
            ],
            [
             0.7777777777777778,
             "#fb9f3a"
            ],
            [
             0.8888888888888888,
             "#fdca26"
            ],
            [
             1,
             "#f0f921"
            ]
           ]
          },
          "colorway": [
           "#636efa",
           "#EF553B",
           "#00cc96",
           "#ab63fa",
           "#FFA15A",
           "#19d3f3",
           "#FF6692",
           "#B6E880",
           "#FF97FF",
           "#FECB52"
          ],
          "font": {
           "color": "#2a3f5f"
          },
          "geo": {
           "bgcolor": "white",
           "lakecolor": "white",
           "landcolor": "#E5ECF6",
           "showlakes": true,
           "showland": true,
           "subunitcolor": "white"
          },
          "hoverlabel": {
           "align": "left"
          },
          "hovermode": "closest",
          "mapbox": {
           "style": "light"
          },
          "paper_bgcolor": "white",
          "plot_bgcolor": "#E5ECF6",
          "polar": {
           "angularaxis": {
            "gridcolor": "white",
            "linecolor": "white",
            "ticks": ""
           },
           "bgcolor": "#E5ECF6",
           "radialaxis": {
            "gridcolor": "white",
            "linecolor": "white",
            "ticks": ""
           }
          },
          "scene": {
           "xaxis": {
            "backgroundcolor": "#E5ECF6",
            "gridcolor": "white",
            "gridwidth": 2,
            "linecolor": "white",
            "showbackground": true,
            "ticks": "",
            "zerolinecolor": "white"
           },
           "yaxis": {
            "backgroundcolor": "#E5ECF6",
            "gridcolor": "white",
            "gridwidth": 2,
            "linecolor": "white",
            "showbackground": true,
            "ticks": "",
            "zerolinecolor": "white"
           },
           "zaxis": {
            "backgroundcolor": "#E5ECF6",
            "gridcolor": "white",
            "gridwidth": 2,
            "linecolor": "white",
            "showbackground": true,
            "ticks": "",
            "zerolinecolor": "white"
           }
          },
          "shapedefaults": {
           "line": {
            "color": "#2a3f5f"
           }
          },
          "ternary": {
           "aaxis": {
            "gridcolor": "white",
            "linecolor": "white",
            "ticks": ""
           },
           "baxis": {
            "gridcolor": "white",
            "linecolor": "white",
            "ticks": ""
           },
           "bgcolor": "#E5ECF6",
           "caxis": {
            "gridcolor": "white",
            "linecolor": "white",
            "ticks": ""
           }
          },
          "title": {
           "x": 0.05
          },
          "xaxis": {
           "automargin": true,
           "gridcolor": "white",
           "linecolor": "white",
           "ticks": "",
           "title": {
            "standoff": 15
           },
           "zerolinecolor": "white",
           "zerolinewidth": 2
          },
          "yaxis": {
           "automargin": true,
           "gridcolor": "white",
           "linecolor": "white",
           "ticks": "",
           "title": {
            "standoff": 15
           },
           "zerolinecolor": "white",
           "zerolinewidth": 2
          }
         }
        },
        "title": {
         "text": "K Values"
        },
        "xaxis": {
         "anchor": "y",
         "domain": [
          0,
          1
         ],
         "title": {
          "text": "K"
         }
        },
        "yaxis": {
         "anchor": "x",
         "domain": [
          0,
          1
         ],
         "title": {
          "text": "value"
         }
        }
       }
      },
      "text/html": [
       "<div>                            <div id=\"690d5fb1-876b-4bac-b5c0-e79818a27a2a\" class=\"plotly-graph-div\" style=\"height:525px; width:100%;\"></div>            <script type=\"text/javascript\">                require([\"plotly\"], function(Plotly) {                    window.PLOTLYENV=window.PLOTLYENV || {};                                    if (document.getElementById(\"690d5fb1-876b-4bac-b5c0-e79818a27a2a\")) {                    Plotly.newPlot(                        \"690d5fb1-876b-4bac-b5c0-e79818a27a2a\",                        [{\"hovertemplate\":\"variable=Train_score\\u003cbr\\u003eK=%{x}\\u003cbr\\u003evalue=%{y}\\u003cextra\\u003e\\u003c\\u002fextra\\u003e\",\"legendgroup\":\"Train_score\",\"line\":{\"color\":\"#636efa\",\"dash\":\"solid\"},\"marker\":{\"symbol\":\"circle\"},\"mode\":\"lines\",\"name\":\"Train_score\",\"orientation\":\"v\",\"showlegend\":true,\"x\":[1,3,5,7,9,11,13,15,17,19,21,23,25,27,29,31,33,35,37,39,41,43,45,47,49,51,53,55,57,59,61,63,65,67,69,71,73,75,77,79,81,83,85,87,89,91,93,95],\"xaxis\":\"x\",\"y\":[1.0,0.9416666666666667,0.9583333333333334,0.9583333333333334,0.95,0.9583333333333334,0.9583333333333334,0.9583333333333334,0.95,0.95,0.95,0.95,0.9583333333333334,0.95,0.925,0.925,0.9,0.8833333333333333,0.8666666666666667,0.8583333333333333,0.8666666666666667,0.8666666666666667,0.8666666666666667,0.8666666666666667,0.8583333333333333,0.8583333333333333,0.8583333333333333,0.8583333333333333,0.8416666666666667,0.8333333333333334,0.8416666666666667,0.8333333333333334,0.8333333333333334,0.8166666666666667,0.825,0.8333333333333334,0.8333333333333334,0.8333333333333334,0.8166666666666667,0.6666666666666666,0.6833333333333333,0.6833333333333333,0.6833333333333333,0.675,0.6666666666666666,0.65,0.5583333333333333,0.49166666666666664],\"yaxis\":\"y\",\"type\":\"scatter\"},{\"hovertemplate\":\"variable=Train_recall\\u003cbr\\u003eK=%{x}\\u003cbr\\u003evalue=%{y}\\u003cextra\\u003e\\u003c\\u002fextra\\u003e\",\"legendgroup\":\"Train_recall\",\"line\":{\"color\":\"#EF553B\",\"dash\":\"solid\"},\"marker\":{\"symbol\":\"circle\"},\"mode\":\"lines\",\"name\":\"Train_recall\",\"orientation\":\"v\",\"showlegend\":true,\"x\":[1,3,5,7,9,11,13,15,17,19,21,23,25,27,29,31,33,35,37,39,41,43,45,47,49,51,53,55,57,59,61,63,65,67,69,71,73,75,77,79,81,83,85,87,89,91,93,95],\"xaxis\":\"x\",\"y\":[1.0,0.9414217219095268,0.9580988117573485,0.9580988117573485,0.9495518032103397,0.9580988117573485,0.9580988117573485,0.9580988117573485,0.9499687304565354,0.9499687304565354,0.9499687304565354,0.9495518032103397,0.9580988117573485,0.9495518032103397,0.9243277048155097,0.9243277048155097,0.898686679174484,0.8820095893266625,0.8649155722326455,0.8563685636856367,0.8644986449864498,0.8644986449864498,0.8644986449864498,0.8644986449864498,0.8563685636856367,0.8563685636856367,0.8563685636856367,0.8563685636856367,0.8401084010840107,0.8315613925370022,0.8396914738378153,0.8315613925370022,0.8315613925370022,0.8153012299353763,0.8234313112361892,0.8315613925370022,0.8315613925370022,0.8311444652908068,0.8144673754429852,0.6593704398582447,0.6756306024598707,0.6756306024598707,0.6756306024598707,0.6672972691265374,0.6587502605795289,0.6420835939128622,0.5502136752136751,0.48354700854700855],\"yaxis\":\"y\",\"type\":\"scatter\"},{\"hovertemplate\":\"variable=Train_precision\\u003cbr\\u003eK=%{x}\\u003cbr\\u003evalue=%{y}\\u003cextra\\u003e\\u003c\\u002fextra\\u003e\",\"legendgroup\":\"Train_precision\",\"line\":{\"color\":\"#00cc96\",\"dash\":\"solid\"},\"marker\":{\"symbol\":\"circle\"},\"mode\":\"lines\",\"name\":\"Train_precision\",\"orientation\":\"v\",\"showlegend\":true,\"x\":[1,3,5,7,9,11,13,15,17,19,21,23,25,27,29,31,33,35,37,39,41,43,45,47,49,51,53,55,57,59,61,63,65,67,69,71,73,75,77,79,81,83,85,87,89,91,93,95],\"xaxis\":\"x\",\"y\":[1.0,0.941938178780284,0.9586466165413534,0.9586466165413534,0.9509742300439975,0.9586466165413534,0.9586466165413534,0.9586466165413534,0.9499687304565354,0.9499687304565354,0.9499687304565354,0.9509742300439975,0.9586466165413534,0.9509742300439975,0.9267676767676768,0.9267676767676768,0.9058671824629272,0.8886739737803567,0.8753565942506034,0.8688888888888888,0.8805499211178724,0.8805499211178724,0.8805499211178724,0.8805499211178724,0.8688888888888888,0.8688888888888888,0.8688888888888888,0.8688888888888888,0.8472222222222222,0.8402457757296468,0.851111111111111,0.8402457757296468,0.8402457757296468,0.8199011390500752,0.8298611111111112,0.8402457757296468,0.8402457757296468,0.8444895199459094,0.826459319359928,0.6355555555555555,0.7287157287157288,0.7287157287157288,0.7287157287157288,0.7264957264957265,0.6687763713080169,0.6646090534979424,0.8120567375886525,0.8006535947712418],\"yaxis\":\"y\",\"type\":\"scatter\"},{\"hovertemplate\":\"variable=Train_f1\\u003cbr\\u003eK=%{x}\\u003cbr\\u003evalue=%{y}\\u003cextra\\u003e\\u003c\\u002fextra\\u003e\",\"legendgroup\":\"Train_f1\",\"line\":{\"color\":\"#ab63fa\",\"dash\":\"solid\"},\"marker\":{\"symbol\":\"circle\"},\"mode\":\"lines\",\"name\":\"Train_f1\",\"orientation\":\"v\",\"showlegend\":true,\"x\":[1,3,5,7,9,11,13,15,17,19,21,23,25,27,29,31,33,35,37,39,41,43,45,47,49,51,53,55,57,59,61,63,65,67,69,71,73,75,77,79,81,83,85,87,89,91,93,95],\"xaxis\":\"x\",\"y\":[1.0,0.9415845198977729,0.9582746570698378,0.9582746570698378,0.9498746867167921,0.9582746570698378,0.9582746570698378,0.9582746570698378,0.9499687304565354,0.9499687304565354,0.9499687304565354,0.9498746867167921,0.9582746570698378,0.9498746867167921,0.9247058823529412,0.9247058823529412,0.8989898989898991,0.882154882154882,0.8645502645502646,0.8556033338642034,0.8635976129582268,0.8635976129582268,0.8635976129582268,0.8635976129582268,0.8556033338642034,0.8556033338642034,0.8556033338642034,0.8556033338642034,0.8396370733765891,0.8306878306878307,0.8386154907894038,0.8306878306878307,0.8306878306878307,0.8148148148148149,0.822756765310967,0.8306878306878307,0.8306878306878307,0.8294970161977835,0.8124467178175617,0.5820271682340649,0.5910680656443369,0.5910680656443369,0.5910680656443369,0.5849495916510064,0.5675963088744812,0.555185717920624,0.4755460588793923,0.40663926716558296],\"yaxis\":\"y\",\"type\":\"scatter\"},{\"hovertemplate\":\"variable=Test_score\\u003cbr\\u003eK=%{x}\\u003cbr\\u003evalue=%{y}\\u003cextra\\u003e\\u003c\\u002fextra\\u003e\",\"legendgroup\":\"Test_score\",\"line\":{\"color\":\"#FFA15A\",\"dash\":\"solid\"},\"marker\":{\"symbol\":\"circle\"},\"mode\":\"lines\",\"name\":\"Test_score\",\"orientation\":\"v\",\"showlegend\":true,\"x\":[1,3,5,7,9,11,13,15,17,19,21,23,25,27,29,31,33,35,37,39,41,43,45,47,49,51,53,55,57,59,61,63,65,67,69,71,73,75,77,79,81,83,85,87,89,91,93,95],\"xaxis\":\"x\",\"y\":[1.0,1.0,1.0,1.0,1.0,1.0,1.0,1.0,1.0,1.0,1.0,1.0,1.0,1.0,0.9666666666666667,0.9666666666666667,0.9666666666666667,0.9666666666666667,0.9333333333333333,0.9666666666666667,0.9666666666666667,0.9666666666666667,0.9666666666666667,0.9666666666666667,0.9333333333333333,0.9333333333333333,0.9333333333333333,0.9333333333333333,0.9333333333333333,0.9333333333333333,0.9333333333333333,0.9333333333333333,0.9333333333333333,0.9666666666666667,0.9,0.9333333333333333,0.9333333333333333,0.9,0.9,0.6333333333333333,0.6666666666666666,0.6666666666666666,0.6666666666666666,0.6666666666666666,0.6666666666666666,0.6666666666666666,0.4666666666666667,0.43333333333333335],\"yaxis\":\"y\",\"type\":\"scatter\"},{\"hovertemplate\":\"variable=Test_recall\\u003cbr\\u003eK=%{x}\\u003cbr\\u003evalue=%{y}\\u003cextra\\u003e\\u003c\\u002fextra\\u003e\",\"legendgroup\":\"Test_recall\",\"line\":{\"color\":\"#19d3f3\",\"dash\":\"solid\"},\"marker\":{\"symbol\":\"circle\"},\"mode\":\"lines\",\"name\":\"Test_recall\",\"orientation\":\"v\",\"showlegend\":true,\"x\":[1,3,5,7,9,11,13,15,17,19,21,23,25,27,29,31,33,35,37,39,41,43,45,47,49,51,53,55,57,59,61,63,65,67,69,71,73,75,77,79,81,83,85,87,89,91,93,95],\"xaxis\":\"x\",\"y\":[1.0,1.0,1.0,1.0,1.0,1.0,1.0,1.0,1.0,1.0,1.0,1.0,1.0,1.0,0.9696969696969697,0.9696969696969697,0.9696969696969697,0.9696969696969697,0.9326599326599326,0.9696969696969697,0.9696969696969697,0.9696969696969697,0.9696969696969697,0.9696969696969697,0.9326599326599326,0.9326599326599326,0.9326599326599326,0.9326599326599326,0.9326599326599326,0.9326599326599326,0.9326599326599326,0.9326599326599326,0.9326599326599326,0.9629629629629629,0.9023569023569024,0.9326599326599326,0.9326599326599326,0.9023569023569024,0.9023569023569024,0.6599326599326599,0.6969696969696969,0.6969696969696969,0.6969696969696969,0.6969696969696969,0.6969696969696969,0.6969696969696969,0.4969696969696969,0.4636363636363636],\"yaxis\":\"y\",\"type\":\"scatter\"},{\"hovertemplate\":\"variable=Test_precision\\u003cbr\\u003eK=%{x}\\u003cbr\\u003evalue=%{y}\\u003cextra\\u003e\\u003c\\u002fextra\\u003e\",\"legendgroup\":\"Test_precision\",\"line\":{\"color\":\"#FF6692\",\"dash\":\"solid\"},\"marker\":{\"symbol\":\"circle\"},\"mode\":\"lines\",\"name\":\"Test_precision\",\"orientation\":\"v\",\"showlegend\":true,\"x\":[1,3,5,7,9,11,13,15,17,19,21,23,25,27,29,31,33,35,37,39,41,43,45,47,49,51,53,55,57,59,61,63,65,67,69,71,73,75,77,79,81,83,85,87,89,91,93,95],\"xaxis\":\"x\",\"y\":[1.0,1.0,1.0,1.0,1.0,1.0,1.0,1.0,1.0,1.0,1.0,1.0,1.0,1.0,0.9666666666666667,0.9666666666666667,0.9666666666666667,0.9666666666666667,0.9326599326599326,0.9666666666666667,0.9666666666666667,0.9666666666666667,0.9666666666666667,0.9666666666666667,0.9326599326599326,0.9326599326599326,0.9326599326599326,0.9326599326599326,0.9326599326599326,0.9326599326599326,0.9326599326599326,0.9326599326599326,0.9326599326599326,0.9722222222222222,0.9,0.9326599326599326,0.9326599326599326,0.9,0.9,0.6481481481481481,0.8245614035087719,0.8245614035087719,0.8245614035087719,0.8245614035087719,0.8245614035087719,0.8245614035087719,0.7866666666666666,0.782051282051282],\"yaxis\":\"y\",\"type\":\"scatter\"},{\"hovertemplate\":\"variable=Test_f1\\u003cbr\\u003eK=%{x}\\u003cbr\\u003evalue=%{y}\\u003cextra\\u003e\\u003c\\u002fextra\\u003e\",\"legendgroup\":\"Test_f1\",\"line\":{\"color\":\"#B6E880\",\"dash\":\"solid\"},\"marker\":{\"symbol\":\"circle\"},\"mode\":\"lines\",\"name\":\"Test_f1\",\"orientation\":\"v\",\"showlegend\":true,\"x\":[1,3,5,7,9,11,13,15,17,19,21,23,25,27,29,31,33,35,37,39,41,43,45,47,49,51,53,55,57,59,61,63,65,67,69,71,73,75,77,79,81,83,85,87,89,91,93,95],\"xaxis\":\"x\",\"y\":[1.0,1.0,1.0,1.0,1.0,1.0,1.0,1.0,1.0,1.0,1.0,1.0,1.0,1.0,0.9665831244778613,0.9665831244778613,0.9665831244778613,0.9665831244778613,0.9326599326599326,0.9665831244778613,0.9665831244778613,0.9665831244778613,0.9665831244778613,0.9665831244778613,0.9326599326599326,0.9326599326599326,0.9326599326599326,0.9326599326599326,0.9326599326599326,0.9326599326599326,0.9326599326599326,0.9326599326599326,0.9326599326599326,0.9658994032395567,0.899749373433584,0.9326599326599326,0.9326599326599326,0.899749373433584,0.899749373433584,0.5821462488129154,0.6031746031746031,0.6031746031746031,0.6031746031746031,0.6031746031746031,0.6031746031746031,0.6031746031746031,0.4225023342670402,0.3808302808302808],\"yaxis\":\"y\",\"type\":\"scatter\"}],                        {\"template\":{\"data\":{\"histogram2dcontour\":[{\"type\":\"histogram2dcontour\",\"colorbar\":{\"outlinewidth\":0,\"ticks\":\"\"},\"colorscale\":[[0.0,\"#0d0887\"],[0.1111111111111111,\"#46039f\"],[0.2222222222222222,\"#7201a8\"],[0.3333333333333333,\"#9c179e\"],[0.4444444444444444,\"#bd3786\"],[0.5555555555555556,\"#d8576b\"],[0.6666666666666666,\"#ed7953\"],[0.7777777777777778,\"#fb9f3a\"],[0.8888888888888888,\"#fdca26\"],[1.0,\"#f0f921\"]]}],\"choropleth\":[{\"type\":\"choropleth\",\"colorbar\":{\"outlinewidth\":0,\"ticks\":\"\"}}],\"histogram2d\":[{\"type\":\"histogram2d\",\"colorbar\":{\"outlinewidth\":0,\"ticks\":\"\"},\"colorscale\":[[0.0,\"#0d0887\"],[0.1111111111111111,\"#46039f\"],[0.2222222222222222,\"#7201a8\"],[0.3333333333333333,\"#9c179e\"],[0.4444444444444444,\"#bd3786\"],[0.5555555555555556,\"#d8576b\"],[0.6666666666666666,\"#ed7953\"],[0.7777777777777778,\"#fb9f3a\"],[0.8888888888888888,\"#fdca26\"],[1.0,\"#f0f921\"]]}],\"heatmap\":[{\"type\":\"heatmap\",\"colorbar\":{\"outlinewidth\":0,\"ticks\":\"\"},\"colorscale\":[[0.0,\"#0d0887\"],[0.1111111111111111,\"#46039f\"],[0.2222222222222222,\"#7201a8\"],[0.3333333333333333,\"#9c179e\"],[0.4444444444444444,\"#bd3786\"],[0.5555555555555556,\"#d8576b\"],[0.6666666666666666,\"#ed7953\"],[0.7777777777777778,\"#fb9f3a\"],[0.8888888888888888,\"#fdca26\"],[1.0,\"#f0f921\"]]}],\"heatmapgl\":[{\"type\":\"heatmapgl\",\"colorbar\":{\"outlinewidth\":0,\"ticks\":\"\"},\"colorscale\":[[0.0,\"#0d0887\"],[0.1111111111111111,\"#46039f\"],[0.2222222222222222,\"#7201a8\"],[0.3333333333333333,\"#9c179e\"],[0.4444444444444444,\"#bd3786\"],[0.5555555555555556,\"#d8576b\"],[0.6666666666666666,\"#ed7953\"],[0.7777777777777778,\"#fb9f3a\"],[0.8888888888888888,\"#fdca26\"],[1.0,\"#f0f921\"]]}],\"contourcarpet\":[{\"type\":\"contourcarpet\",\"colorbar\":{\"outlinewidth\":0,\"ticks\":\"\"}}],\"contour\":[{\"type\":\"contour\",\"colorbar\":{\"outlinewidth\":0,\"ticks\":\"\"},\"colorscale\":[[0.0,\"#0d0887\"],[0.1111111111111111,\"#46039f\"],[0.2222222222222222,\"#7201a8\"],[0.3333333333333333,\"#9c179e\"],[0.4444444444444444,\"#bd3786\"],[0.5555555555555556,\"#d8576b\"],[0.6666666666666666,\"#ed7953\"],[0.7777777777777778,\"#fb9f3a\"],[0.8888888888888888,\"#fdca26\"],[1.0,\"#f0f921\"]]}],\"surface\":[{\"type\":\"surface\",\"colorbar\":{\"outlinewidth\":0,\"ticks\":\"\"},\"colorscale\":[[0.0,\"#0d0887\"],[0.1111111111111111,\"#46039f\"],[0.2222222222222222,\"#7201a8\"],[0.3333333333333333,\"#9c179e\"],[0.4444444444444444,\"#bd3786\"],[0.5555555555555556,\"#d8576b\"],[0.6666666666666666,\"#ed7953\"],[0.7777777777777778,\"#fb9f3a\"],[0.8888888888888888,\"#fdca26\"],[1.0,\"#f0f921\"]]}],\"mesh3d\":[{\"type\":\"mesh3d\",\"colorbar\":{\"outlinewidth\":0,\"ticks\":\"\"}}],\"scatter\":[{\"fillpattern\":{\"fillmode\":\"overlay\",\"size\":10,\"solidity\":0.2},\"type\":\"scatter\"}],\"parcoords\":[{\"type\":\"parcoords\",\"line\":{\"colorbar\":{\"outlinewidth\":0,\"ticks\":\"\"}}}],\"scatterpolargl\":[{\"type\":\"scatterpolargl\",\"marker\":{\"colorbar\":{\"outlinewidth\":0,\"ticks\":\"\"}}}],\"bar\":[{\"error_x\":{\"color\":\"#2a3f5f\"},\"error_y\":{\"color\":\"#2a3f5f\"},\"marker\":{\"line\":{\"color\":\"#E5ECF6\",\"width\":0.5},\"pattern\":{\"fillmode\":\"overlay\",\"size\":10,\"solidity\":0.2}},\"type\":\"bar\"}],\"scattergeo\":[{\"type\":\"scattergeo\",\"marker\":{\"colorbar\":{\"outlinewidth\":0,\"ticks\":\"\"}}}],\"scatterpolar\":[{\"type\":\"scatterpolar\",\"marker\":{\"colorbar\":{\"outlinewidth\":0,\"ticks\":\"\"}}}],\"histogram\":[{\"marker\":{\"pattern\":{\"fillmode\":\"overlay\",\"size\":10,\"solidity\":0.2}},\"type\":\"histogram\"}],\"scattergl\":[{\"type\":\"scattergl\",\"marker\":{\"colorbar\":{\"outlinewidth\":0,\"ticks\":\"\"}}}],\"scatter3d\":[{\"type\":\"scatter3d\",\"line\":{\"colorbar\":{\"outlinewidth\":0,\"ticks\":\"\"}},\"marker\":{\"colorbar\":{\"outlinewidth\":0,\"ticks\":\"\"}}}],\"scattermapbox\":[{\"type\":\"scattermapbox\",\"marker\":{\"colorbar\":{\"outlinewidth\":0,\"ticks\":\"\"}}}],\"scatterternary\":[{\"type\":\"scatterternary\",\"marker\":{\"colorbar\":{\"outlinewidth\":0,\"ticks\":\"\"}}}],\"scattercarpet\":[{\"type\":\"scattercarpet\",\"marker\":{\"colorbar\":{\"outlinewidth\":0,\"ticks\":\"\"}}}],\"carpet\":[{\"aaxis\":{\"endlinecolor\":\"#2a3f5f\",\"gridcolor\":\"white\",\"linecolor\":\"white\",\"minorgridcolor\":\"white\",\"startlinecolor\":\"#2a3f5f\"},\"baxis\":{\"endlinecolor\":\"#2a3f5f\",\"gridcolor\":\"white\",\"linecolor\":\"white\",\"minorgridcolor\":\"white\",\"startlinecolor\":\"#2a3f5f\"},\"type\":\"carpet\"}],\"table\":[{\"cells\":{\"fill\":{\"color\":\"#EBF0F8\"},\"line\":{\"color\":\"white\"}},\"header\":{\"fill\":{\"color\":\"#C8D4E3\"},\"line\":{\"color\":\"white\"}},\"type\":\"table\"}],\"barpolar\":[{\"marker\":{\"line\":{\"color\":\"#E5ECF6\",\"width\":0.5},\"pattern\":{\"fillmode\":\"overlay\",\"size\":10,\"solidity\":0.2}},\"type\":\"barpolar\"}],\"pie\":[{\"automargin\":true,\"type\":\"pie\"}]},\"layout\":{\"autotypenumbers\":\"strict\",\"colorway\":[\"#636efa\",\"#EF553B\",\"#00cc96\",\"#ab63fa\",\"#FFA15A\",\"#19d3f3\",\"#FF6692\",\"#B6E880\",\"#FF97FF\",\"#FECB52\"],\"font\":{\"color\":\"#2a3f5f\"},\"hovermode\":\"closest\",\"hoverlabel\":{\"align\":\"left\"},\"paper_bgcolor\":\"white\",\"plot_bgcolor\":\"#E5ECF6\",\"polar\":{\"bgcolor\":\"#E5ECF6\",\"angularaxis\":{\"gridcolor\":\"white\",\"linecolor\":\"white\",\"ticks\":\"\"},\"radialaxis\":{\"gridcolor\":\"white\",\"linecolor\":\"white\",\"ticks\":\"\"}},\"ternary\":{\"bgcolor\":\"#E5ECF6\",\"aaxis\":{\"gridcolor\":\"white\",\"linecolor\":\"white\",\"ticks\":\"\"},\"baxis\":{\"gridcolor\":\"white\",\"linecolor\":\"white\",\"ticks\":\"\"},\"caxis\":{\"gridcolor\":\"white\",\"linecolor\":\"white\",\"ticks\":\"\"}},\"coloraxis\":{\"colorbar\":{\"outlinewidth\":0,\"ticks\":\"\"}},\"colorscale\":{\"sequential\":[[0.0,\"#0d0887\"],[0.1111111111111111,\"#46039f\"],[0.2222222222222222,\"#7201a8\"],[0.3333333333333333,\"#9c179e\"],[0.4444444444444444,\"#bd3786\"],[0.5555555555555556,\"#d8576b\"],[0.6666666666666666,\"#ed7953\"],[0.7777777777777778,\"#fb9f3a\"],[0.8888888888888888,\"#fdca26\"],[1.0,\"#f0f921\"]],\"sequentialminus\":[[0.0,\"#0d0887\"],[0.1111111111111111,\"#46039f\"],[0.2222222222222222,\"#7201a8\"],[0.3333333333333333,\"#9c179e\"],[0.4444444444444444,\"#bd3786\"],[0.5555555555555556,\"#d8576b\"],[0.6666666666666666,\"#ed7953\"],[0.7777777777777778,\"#fb9f3a\"],[0.8888888888888888,\"#fdca26\"],[1.0,\"#f0f921\"]],\"diverging\":[[0,\"#8e0152\"],[0.1,\"#c51b7d\"],[0.2,\"#de77ae\"],[0.3,\"#f1b6da\"],[0.4,\"#fde0ef\"],[0.5,\"#f7f7f7\"],[0.6,\"#e6f5d0\"],[0.7,\"#b8e186\"],[0.8,\"#7fbc41\"],[0.9,\"#4d9221\"],[1,\"#276419\"]]},\"xaxis\":{\"gridcolor\":\"white\",\"linecolor\":\"white\",\"ticks\":\"\",\"title\":{\"standoff\":15},\"zerolinecolor\":\"white\",\"automargin\":true,\"zerolinewidth\":2},\"yaxis\":{\"gridcolor\":\"white\",\"linecolor\":\"white\",\"ticks\":\"\",\"title\":{\"standoff\":15},\"zerolinecolor\":\"white\",\"automargin\":true,\"zerolinewidth\":2},\"scene\":{\"xaxis\":{\"backgroundcolor\":\"#E5ECF6\",\"gridcolor\":\"white\",\"linecolor\":\"white\",\"showbackground\":true,\"ticks\":\"\",\"zerolinecolor\":\"white\",\"gridwidth\":2},\"yaxis\":{\"backgroundcolor\":\"#E5ECF6\",\"gridcolor\":\"white\",\"linecolor\":\"white\",\"showbackground\":true,\"ticks\":\"\",\"zerolinecolor\":\"white\",\"gridwidth\":2},\"zaxis\":{\"backgroundcolor\":\"#E5ECF6\",\"gridcolor\":\"white\",\"linecolor\":\"white\",\"showbackground\":true,\"ticks\":\"\",\"zerolinecolor\":\"white\",\"gridwidth\":2}},\"shapedefaults\":{\"line\":{\"color\":\"#2a3f5f\"}},\"annotationdefaults\":{\"arrowcolor\":\"#2a3f5f\",\"arrowhead\":0,\"arrowwidth\":1},\"geo\":{\"bgcolor\":\"white\",\"landcolor\":\"#E5ECF6\",\"subunitcolor\":\"white\",\"showland\":true,\"showlakes\":true,\"lakecolor\":\"white\"},\"title\":{\"x\":0.05},\"mapbox\":{\"style\":\"light\"}}},\"xaxis\":{\"anchor\":\"y\",\"domain\":[0.0,1.0],\"title\":{\"text\":\"K\"}},\"yaxis\":{\"anchor\":\"x\",\"domain\":[0.0,1.0],\"title\":{\"text\":\"value\"}},\"legend\":{\"title\":{\"text\":\"variable\"},\"tracegroupgap\":0},\"title\":{\"text\":\"K Values\"}},                        {\"responsive\": true}                    ).then(function(){\n",
       "                            \n",
       "var gd = document.getElementById('690d5fb1-876b-4bac-b5c0-e79818a27a2a');\n",
       "var x = new MutationObserver(function (mutations, observer) {{\n",
       "        var display = window.getComputedStyle(gd).display;\n",
       "        if (!display || display === 'none') {{\n",
       "            console.log([gd, 'removed!']);\n",
       "            Plotly.purge(gd);\n",
       "            observer.disconnect();\n",
       "        }}\n",
       "}});\n",
       "\n",
       "// Listen for the removal of the full notebook cells\n",
       "var notebookContainer = gd.closest('#notebook-container');\n",
       "if (notebookContainer) {{\n",
       "    x.observe(notebookContainer, {childList: true});\n",
       "}}\n",
       "\n",
       "// Listen for the clearing of the current output cell\n",
       "var outputEl = gd.closest('.output');\n",
       "if (outputEl) {{\n",
       "    x.observe(outputEl, {childList: true});\n",
       "}}\n",
       "\n",
       "                        })                };                });            </script>        </div>"
      ]
     },
     "metadata": {},
     "output_type": "display_data"
    }
   ],
   "source": [
    "fig = px.line(df_score, x=df_score.index, y=[\n",
    "    'Train_score', \n",
    "    'Train_recall', \n",
    "    'Train_precision', \n",
    "    'Train_f1', \n",
    "    'Test_score', \n",
    "    'Test_recall', \n",
    "    'Test_precision', \n",
    "    'Test_f1'],\n",
    "     title='K Values')\n",
    "\n",
    "fig.show()"
   ]
  },
  {
   "cell_type": "code",
   "execution_count": 13,
   "metadata": {},
   "outputs": [
    {
     "data": {
      "text/plain": [
       "<matplotlib.collections.PathCollection at 0x1dd114dea30>"
      ]
     },
     "execution_count": 13,
     "metadata": {},
     "output_type": "execute_result"
    },
    {
     "data": {
      "application/vnd.jupyter.widget-view+json": {
       "model_id": "1379751b05b94a709e10ad6a27295df9",
       "version_major": 2,
       "version_minor": 0
      },
      "image/png": "[encoded data removed]",
      "text/html": [
       "\n",
       "            <div style=\"display: inline-block;\">\n",
       "                <div class=\"jupyter-widgets widget-label\" style=\"text-align: center;\">\n",
       "                    Figure\n",
       "                </div>\n",
       "                <img src='data:image/png;base64,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' width=640.0/>\n",
       "            </div>\n",
       "        "
      ],
      "text/plain": [
       "Canvas(toolbar=Toolbar(toolitems=[('Home', 'Reset original view', 'home', 'home'), ('Back', 'Back to previous …"
      ]
     },
     "metadata": {},
     "output_type": "display_data"
    }
   ],
   "source": [
    "%matplotlib ipympl\n",
    "import numpy as np\n",
    "import pandas as pd\n",
    "from sklearn.datasets import make_blobs\n",
    "import matplotlib.pyplot as plt\n",
    "from matplotlib.colors import ListedColormap\n",
    "cmap_bold = ListedColormap(['blue','#FFFF00','black','green'])\n",
    "\n",
    "np.random.seed= 2021\n",
    "X_D2, y_D2 = make_blobs(n_samples = 300, n_features = 2, centers = 8,\n",
    "                       cluster_std = 1.3, random_state = 4)\n",
    "y_D2 = y_D2 % 2\n",
    "plt.figure()\n",
    "plt.title('Sample binary classification problem with non-linearly separable classes')\n",
    "plt.scatter(X_D2[:,0], X_D2[:,1], c=y_D2,\n",
    "           marker= 'o', s=30, cmap=cmap_bold)"
   ]
  },
  {
   "cell_type": "code",
   "execution_count": 8,
   "metadata": {},
   "outputs": [
    {
     "data": {
      "text/html": [
       "<div>\n",
       "<style scoped>\n",
       "    .dataframe tbody tr th:only-of-type {\n",
       "        vertical-align: middle;\n",
       "    }\n",
       "\n",
       "    .dataframe tbody tr th {\n",
       "        vertical-align: top;\n",
       "    }\n",
       "\n",
       "    .dataframe thead th {\n",
       "        text-align: right;\n",
       "    }\n",
       "</style>\n",
       "<table border=\"1\" class=\"dataframe\">\n",
       "  <thead>\n",
       "    <tr style=\"text-align: right;\">\n",
       "      <th></th>\n",
       "      <th>0</th>\n",
       "      <th>1</th>\n",
       "    </tr>\n",
       "  </thead>\n",
       "  <tbody>\n",
       "    <tr>\n",
       "      <th>0</th>\n",
       "      <td>-5.971788</td>\n",
       "      <td>-1.759139</td>\n",
       "    </tr>\n",
       "    <tr>\n",
       "      <th>1</th>\n",
       "      <td>3.586356</td>\n",
       "      <td>-5.613891</td>\n",
       "    </tr>\n",
       "    <tr>\n",
       "      <th>2</th>\n",
       "      <td>6.662805</td>\n",
       "      <td>-6.252550</td>\n",
       "    </tr>\n",
       "    <tr>\n",
       "      <th>3</th>\n",
       "      <td>11.445015</td>\n",
       "      <td>3.524638</td>\n",
       "    </tr>\n",
       "    <tr>\n",
       "      <th>4</th>\n",
       "      <td>10.693343</td>\n",
       "      <td>-9.900922</td>\n",
       "    </tr>\n",
       "    <tr>\n",
       "      <th>...</th>\n",
       "      <td>...</td>\n",
       "      <td>...</td>\n",
       "    </tr>\n",
       "    <tr>\n",
       "      <th>295</th>\n",
       "      <td>10.380193</td>\n",
       "      <td>-9.919550</td>\n",
       "    </tr>\n",
       "    <tr>\n",
       "      <th>296</th>\n",
       "      <td>12.095520</td>\n",
       "      <td>4.849921</td>\n",
       "    </tr>\n",
       "    <tr>\n",
       "      <th>297</th>\n",
       "      <td>10.252850</td>\n",
       "      <td>4.131781</td>\n",
       "    </tr>\n",
       "    <tr>\n",
       "      <th>298</th>\n",
       "      <td>5.176469</td>\n",
       "      <td>-9.027085</td>\n",
       "    </tr>\n",
       "    <tr>\n",
       "      <th>299</th>\n",
       "      <td>6.334655</td>\n",
       "      <td>-6.115175</td>\n",
       "    </tr>\n",
       "  </tbody>\n",
       "</table>\n",
       "<p>300 rows × 2 columns</p>\n",
       "</div>"
      ],
      "text/plain": [
       "             0         1\n",
       "0    -5.971788 -1.759139\n",
       "1     3.586356 -5.613891\n",
       "2     6.662805 -6.252550\n",
       "3    11.445015  3.524638\n",
       "4    10.693343 -9.900922\n",
       "..         ...       ...\n",
       "295  10.380193 -9.919550\n",
       "296  12.095520  4.849921\n",
       "297  10.252850  4.131781\n",
       "298   5.176469 -9.027085\n",
       "299   6.334655 -6.115175\n",
       "\n",
       "[300 rows x 2 columns]"
      ]
     },
     "execution_count": 8,
     "metadata": {},
     "output_type": "execute_result"
    }
   ],
   "source": [
    "pd.DataFrame(X_D2)"
   ]
  },
  {
   "cell_type": "code",
   "execution_count": 9,
   "metadata": {},
   "outputs": [
    {
     "data": {
      "text/plain": [
       "array([0, 0, 1, 1, 1, 0, 0, 1, 1, 0, 0, 1, 0, 1, 1, 1, 1, 1, 0, 0, 0, 1,\n",
       "       1, 0, 0, 0, 1, 1, 1, 1, 1, 0, 1, 1, 0, 0, 0, 0, 0, 0, 1, 1, 1, 1,\n",
       "       0, 0, 1, 1, 0, 0, 0, 1, 0, 0, 1, 0, 0, 1, 1, 0, 1, 0, 1, 0, 0, 0,\n",
       "       0, 1, 1, 1, 1, 0, 1, 0, 0, 1, 0, 1, 1, 0, 1, 1, 1, 0, 1, 1, 0, 1,\n",
       "       1, 1, 1, 1, 0, 0, 0, 1, 0, 0, 0, 0, 0, 0, 0, 1, 1, 1, 0, 0, 0, 0,\n",
       "       1, 0, 0, 1, 1, 1, 0, 1, 1, 0, 0, 0, 1, 0, 1, 1, 1, 1, 0, 1, 0, 1,\n",
       "       0, 1, 0, 1, 1, 1, 0, 0, 1, 1, 1, 0, 1, 1, 1, 1, 0, 1, 0, 0, 0, 1,\n",
       "       0, 1, 0, 0, 0, 1, 1, 0, 0, 1, 0, 1, 1, 0, 0, 1, 0, 1, 0, 1, 0, 1,\n",
       "       1, 0, 1, 0, 0, 1, 1, 1, 0, 1, 0, 0, 1, 1, 1, 1, 0, 0, 0, 1, 0, 0,\n",
       "       0, 1, 1, 1, 0, 0, 0, 1, 1, 0, 0, 0, 1, 0, 1, 1, 1, 0, 1, 0, 1, 1,\n",
       "       0, 1, 1, 1, 1, 0, 0, 0, 1, 0, 0, 0, 0, 0, 1, 0, 1, 0, 0, 0, 1, 0,\n",
       "       1, 0, 0, 0, 1, 1, 0, 1, 0, 1, 1, 0, 1, 0, 0, 0, 1, 0, 1, 1, 1, 0,\n",
       "       0, 1, 1, 1, 1, 0, 1, 0, 1, 0, 0, 0, 1, 1, 0, 0, 0, 1, 0, 0, 0, 0,\n",
       "       1, 0, 1, 1, 1, 0, 0, 0, 0, 1, 1, 1, 1, 1], dtype=int32)"
      ]
     },
     "execution_count": 9,
     "metadata": {},
     "output_type": "execute_result"
    }
   ],
   "source": [
    "y_D2"
   ]
  },
  {
   "cell_type": "code",
   "execution_count": null,
   "metadata": {},
   "outputs": [],
   "source": []
  }
 ],
 "metadata": {
  "kernelspec": {
   "display_name": "Python 3",
   "language": "python",
   "name": "python3"
  },
  "language_info": {
   "codemirror_mode": {
    "name": "ipython",
    "version": 3
   },
   "file_extension": ".py",
   "mimetype": "text/x-python",
   "name": "python",
   "nbconvert_exporter": "python",
   "pygments_lexer": "ipython3",
   "version": "3.8.3"
  }
 },
 "nbformat": 4,
 "nbformat_minor": 4
}
