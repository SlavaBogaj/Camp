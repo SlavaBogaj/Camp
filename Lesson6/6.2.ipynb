{
 "cells": [
  {
   "cell_type": "code",
   "execution_count": 1,
   "metadata": {
    "tags": []
   },
   "outputs": [
    {
     "name": "stdout",
     "output_type": "stream",
     "text": [
      "Best Polynomial Model R-squared Score: 0.4592111040261443\n",
      "Best Polynomial Degree: 1\n",
      "Best Scaler: MinMaxScaler()\n",
      "Best Regressor: Ridge()\n",
      "Best Alpha: 1.0\n"
     ]
    }
   ],
   "source": [
    "from sklearn.datasets import load_diabetes\n",
    "from sklearn.model_selection import train_test_split\n",
    "from sklearn.preprocessing import PolynomialFeatures, StandardScaler, MinMaxScaler\n",
    "from sklearn.linear_model import Lasso, Ridge\n",
    "from sklearn.pipeline import Pipeline\n",
    "from sklearn.model_selection import GridSearchCV\n",
    "import warnings\n",
    "\n",
    "warnings.filterwarnings(\"ignore\")\n",
    "\n",
    "diabetes = load_diabetes()\n",
    "X, y = diabetes.data, diabetes.target\n",
    "\n",
    "X_train, X_test, y_train, y_test = train_test_split(X, y, test_size=0.2, random_state=42)\n",
    "\n",
    "polynomial_pipeline = Pipeline([\n",
    "    ('polynomial_features', PolynomialFeatures(include_bias=False)),\n",
    "    ('scaler', MinMaxScaler()),\n",
    "    ('regressor', Ridge())\n",
    "])\n",
    "\n",
    "param_grid = {\n",
    "    'polynomial_features__degree': [1, 2, 3, 4, 5],\n",
    "    'scaler': [MinMaxScaler(), StandardScaler()],\n",
    "    'regressor': [Ridge(), Lasso()],\n",
    "    'regressor__alpha': [0.001, 0.01, 0.1, 1.0, 10.0]\n",
    "}\n",
    "\n",
    "grid_search = GridSearchCV(polynomial_pipeline, param_grid, cv=5)\n",
    "\n",
    "grid_search.fit(X_train, y_train)\n",
    "best_model = grid_search.best_estimator_\n",
    "score = best_model.score(X_test, y_test)\n",
    "\n",
    "print(\"Best Polynomial Model R-squared Score:\", score)\n",
    "print(\"Best Polynomial Degree:\", best_model.named_steps['polynomial_features'].degree)\n",
    "print(\"Best Scaler:\", best_model.named_steps['scaler'])\n",
    "print(\"Best Regressor:\", best_model.named_steps['regressor'])\n",
    "print(\"Best Alpha:\", best_model.named_steps['regressor'].alpha)\n"
   ]
  },
  {
   "cell_type": "code",
   "execution_count": null,
   "metadata": {},
   "outputs": [],
   "source": []
  }
 ],
 "metadata": {
  "kernelspec": {
   "display_name": "Python 3 (ipykernel)",
   "language": "python",
   "name": "python3"
  },
  "language_info": {
   "codemirror_mode": {
    "name": "ipython",
    "version": 3
   },
   "file_extension": ".py",
   "mimetype": "text/x-python",
   "name": "python",
   "nbconvert_exporter": "python",
   "pygments_lexer": "ipython3",
   "version": "3.11.5"
  }
 },
 "nbformat": 4,
 "nbformat_minor": 4
}
