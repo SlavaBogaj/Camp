{
 "cells": [
  {
   "cell_type": "code",
   "execution_count": 56,
   "id": "10891437-ae51-46b7-8f2e-a2cfcad51201",
   "metadata": {},
   "outputs": [
    {
     "name": "stdout",
     "output_type": "stream",
     "text": [
      "Мінімальна кількість спроб у найдужчому випадку з 2 склянок для 10 поверхів становить 4\n"
     ]
    }
   ],
   "source": [
    "import numpy as np\n",
    "\n",
    "def min_try(n, k):\n",
    "    \n",
    "    mtr = np.zeros((k + 1, n + 1))\n",
    "    result = 0\n",
    "    while mtr[result, n] < k:\n",
    "        result += 1\n",
    "        for x in range(1, n + 1):\n",
    "            mtr[result, x] = 1 + mtr[result - 1, x - 1] + mtr[result - 1, x]\n",
    "\n",
    "    return result\n",
    "\n",
    "n = 2\n",
    "k = 10\n",
    "print(\"Мінімальна кількість спроб у найдужчому випадку з {} склянок для {} поверхів становить {}\".format(n, k, min_try(n, k)))"
   ]
  },
  {
   "cell_type": "code",
   "execution_count": null,
   "id": "af431fe1-0d9a-45ea-ac5b-dc966ec6aef9",
   "metadata": {},
   "outputs": [],
   "source": []
  }
 ],
 "metadata": {
  "kernelspec": {
   "display_name": "Python 3 (ipykernel)",
   "language": "python",
   "name": "python3"
  },
  "language_info": {
   "codemirror_mode": {
    "name": "ipython",
    "version": 3
   },
   "file_extension": ".py",
   "mimetype": "text/x-python",
   "name": "python",
   "nbconvert_exporter": "python",
   "pygments_lexer": "ipython3",
   "version": "3.11.5"
  }
 },
 "nbformat": 4,
 "nbformat_minor": 5
}
